{
 "cells": [
  {
   "cell_type": "markdown",
   "metadata": {},
   "source": [
    "INSA ROUEN MS ESD 2019-2020\n",
    "<br>\n",
    "Winnie VORIHILALA"
   ]
  },
  {
   "cell_type": "markdown",
   "metadata": {},
   "source": [
    "## TP1 MACHINE LEARNING : Décision bayesienne - Regression logistique"
   ]
  },
  {
   "cell_type": "markdown",
   "metadata": {},
   "source": [
    "Objectifs de ce TP :\n",
    "\n",
    "􏰀 - Mise en œuvre des méthodes LDA et QDA <br>\n",
    "􏰀 - Mise en œuvre de la méthode de régression logistique <br>\n",
    "􏰀 - Test sur des problèmes de classification binaire et multi-classe <br>"
   ]
  },
  {
   "cell_type": "markdown",
   "metadata": {},
   "source": [
    "## 1 - Analyse discriminante linéaire et quadratique"
   ]
  },
  {
   "cell_type": "markdown",
   "metadata": {},
   "source": [
    "## 1.1 Prise en main"
   ]
  },
  {
   "cell_type": "code",
   "execution_count": 1,
   "metadata": {
    "scrolled": true
   },
   "outputs": [
    {
     "name": "stdout",
     "output_type": "stream",
     "text": [
      "Nombre de points : 150\n",
      "Nombre de variables : 4\n",
      "Nombre de classes : 3\n",
      "Classe 0 comprend 50 points\n",
      "Classe 1 comprend 50 points\n",
      "Classe 2 comprend 50 points\n"
     ]
    }
   ],
   "source": [
    "# Chargement du script SimpleLDA_QDA.py disponible sur Moodle qui illustre les méthodes LDA et QDA \n",
    "#sur les données iris.\n",
    "\n",
    "# coding: utf-8\n",
    "\n",
    "#%% =========== Illustration de LDA et QDA ====\n",
    "# Application sur les donnees Iris\n",
    "# =============================================\n",
    "#from __future__ import print_function\n",
    "#from __future__ import division\n",
    "\n",
    "import numpy as np\n",
    "import matplotlib.pyplot as plt\n",
    "from matplotlib.colors import ListedColormap\n",
    "\n",
    "from sklearn import datasets\n",
    "from sklearn.discriminant_analysis import LinearDiscriminantAnalysis\n",
    "from sklearn.discriminant_analysis import QuadraticDiscriminantAnalysis\n",
    "\n",
    "plt.close('all')\n",
    "\n",
    "#%% ==== Trace de frontiere de decision en 2D\n",
    "def plot_regions_decision_2d(X, y, classifier, resolution=0.02, titre=' '):\n",
    "\n",
    "    # setup marker generator and color map\n",
    "    markers = ('s', 'x', 'o', '^', 'v')\n",
    "    colors = ('red', 'blue', 'lightgreen', 'gray', 'cyan')\n",
    "    cmap = ListedColormap(colors[:len(np.unique(y))])\n",
    "\n",
    "    # plot the decision surface\n",
    "    x1_min, x1_max = X[:, 0].min() - 0, X[:, 0].max() + 0\n",
    "    x2_min, x2_max = X[:, 1].min() - 0, X[:, 1].max() + 0\n",
    "    xx1, xx2 = np.meshgrid(np.arange(x1_min, x1_max, resolution),\n",
    "                         np.arange(x2_min, x2_max, resolution))\n",
    "    Z = classifier.predict(np.array([xx1.ravel(), xx2.ravel()]).T)\n",
    "    Z = Z.reshape(xx1.shape)\n",
    "    plt.figure()\n",
    "    plt.contourf(xx1, xx2, Z, alpha=0.4, cmap=cmap)\n",
    "    plt.xlim(xx1.min(), xx1.max())\n",
    "    plt.ylim(xx2.min(), xx2.max())\n",
    "\n",
    "    # plot class samples\n",
    "    for idx, cl in enumerate(np.unique(y)):\n",
    "        plt.scatter(x=X[y == cl, 0], y=X[y == cl, 1],\n",
    "                    alpha=0.6, c=cmap(idx),\n",
    "                    marker=markers[idx], label= 'classe {}'.format(cl))\n",
    "    plt.legend(loc='best')\n",
    "    plt.title(titre, fontsize=12)\n",
    "    \n",
    "# %% ### Dataset : IRIS (inclus dans Sklearn)\n",
    "# Caractéristiques : 150 points, 4 variables, 3 classes\n",
    "# chargement des donnees\n",
    "iris = datasets.load_iris()\n",
    "X, Y = iris.data, iris.target\n",
    "print('Nombre de points : {}'.format(X.shape[0]))\n",
    "print('Nombre de variables : {}'.format(X.shape[1]))\n",
    "print('Nombre de classes : {}'.format(len(np.unique(Y))))\n",
    "classes, nbpoints = np.unique(Y, return_counts=True)\n",
    "for i, lab in enumerate(classes):\n",
    "    print('Classe {} comprend {} points'.format(lab, nbpoints[i]))\n"
   ]
  },
  {
   "cell_type": "code",
   "execution_count": 3,
   "metadata": {},
   "outputs": [
    {
     "name": "stderr",
     "output_type": "stream",
     "text": [
      "'c' argument looks like a single numeric RGB or RGBA sequence, which should be avoided as value-mapping will have precedence in case its length matches with 'x' & 'y'.  Please use a 2-D array with a single row if you really want to specify the same RGB or RGBA value for all points.\n",
      "'c' argument looks like a single numeric RGB or RGBA sequence, which should be avoided as value-mapping will have precedence in case its length matches with 'x' & 'y'.  Please use a 2-D array with a single row if you really want to specify the same RGB or RGBA value for all points.\n",
      "'c' argument looks like a single numeric RGB or RGBA sequence, which should be avoided as value-mapping will have precedence in case its length matches with 'x' & 'y'.  Please use a 2-D array with a single row if you really want to specify the same RGB or RGBA value for all points.\n",
      "'c' argument looks like a single numeric RGB or RGBA sequence, which should be avoided as value-mapping will have precedence in case its length matches with 'x' & 'y'.  Please use a 2-D array with a single row if you really want to specify the same RGB or RGBA value for all points.\n",
      "'c' argument looks like a single numeric RGB or RGBA sequence, which should be avoided as value-mapping will have precedence in case its length matches with 'x' & 'y'.  Please use a 2-D array with a single row if you really want to specify the same RGB or RGBA value for all points.\n",
      "'c' argument looks like a single numeric RGB or RGBA sequence, which should be avoided as value-mapping will have precedence in case its length matches with 'x' & 'y'.  Please use a 2-D array with a single row if you really want to specify the same RGB or RGBA value for all points.\n"
     ]
    },
    {
     "name": "stdout",
     "output_type": "stream",
     "text": [
      "LDA : taux derreur = 2.0%\n",
      "[[5.006 3.428 1.462 0.246]\n",
      " [5.936 2.77  4.26  1.326]\n",
      " [6.588 2.974 5.552 2.026]]\n",
      "QDA : taux derreur = 2.0%\n"
     ]
    },
    {
     "data": {
      "image/png": "[encoded data removed]",
      "text/plain": [
       "<Figure size 432x288 with 1 Axes>"
      ]
     },
     "metadata": {
      "needs_background": "light"
     },
     "output_type": "display_data"
    },
    {
     "data": {
      "image/png": "[encoded data removed]",
      "text/plain": [
       "<Figure size 432x288 with 1 Axes>"
      ]
     },
     "metadata": {
      "needs_background": "light"
     },
     "output_type": "display_data"
    }
   ],
   "source": [
    "#%% ### Utilisation de LDA et QDA\n",
    "# Remarque : la normalisation des donnees, le decoupage apprentissage/validation/test \n",
    "# sont omis dans cet exemple\n",
    "\n",
    "# LDA\n",
    "clf_lda = LinearDiscriminantAnalysis(solver='svd', store_covariance = True) # creation du modele LDA et utilisation du solveur svd qui est la décomposition en valeurs singulières\n",
    "clf_lda.fit(X, Y) #entrainement du modèle avec les données de X et les classes correspondantes Y\n",
    "Y_lda = clf_lda.predict(X) #calcul de la prédiction\n",
    "err_lda = sum(Y_lda != Y)/Y.size # calcul de l'erreur, comparaison des classes prédites avec la vraie valeur des classes, \n",
    "print('LDA : taux d''erreur = {}%'.format(100*err_lda))\n",
    "\n",
    "# QDA\n",
    "clf_qda = QuadraticDiscriminantAnalysis(store_covariance = True) #on met true car on veut calculer la matrice de covariance et afficher le resultat plus tard,la valeur de ce paramètre par défaut est False\n",
    "clf_qda.fit(X, Y)\n",
    "print(clf_qda.means_)\n",
    "Y_qda = clf_qda.predict(X)\n",
    "err_qda = sum(Y_qda!= Y)/Y.size\n",
    "print('QDA : taux d''erreur = {}%'.format(100*err_qda))\n",
    "\n",
    "\n",
    "#%% ### Trace de la frontiere de decision en 2D\n",
    "# Utilisation de 2 variables choisies parmi les 4. \n",
    "#On fait le modele LDA et QDA que pour ces variables\n",
    "\n",
    "variables = [2, 3] #nous selectionnons au hasard 2 points pour visualiser le resultat \n",
    "## on ne fait ceci que pour le trace de la frontiere de decision de la LDA et QDA en 2D\n",
    "classifieur = 'LDA'\n",
    "clf_lda.fit(X[:,variables], Y) \n",
    "plot_regions_decision_2d(X[:,variables], Y, clf_lda, 0.02, titre='LDA')\n",
    "#\n",
    "clf_qda.fit(X[:,variables], Y) \n",
    "plot_regions_decision_2d(X[:,variables], Y, clf_qda, 0.02, titre='QDA')\n",
    "\n"
   ]
  },
  {
   "cell_type": "markdown",
   "metadata": {},
   "source": [
    "Lien documentation scikit-learn : <br>\n",
    "https://scikit-learn.org/stable/modules/generated/sklearn.discriminant_analysis.LinearDiscriminantAnalysis.html <br>"
   ]
  },
  {
   "cell_type": "markdown",
   "metadata": {},
   "source": [
    "### 1 - Commentaire et explication sur les différentes étapes du programme ci-dessus "
   ]
  },
  {
   "cell_type": "markdown",
   "metadata": {},
   "source": [
    "Ce script SimpleLDA_QDA.py illustre les méthodes LDA et QDA sur les données iris. \n",
    "\n",
    "Les methodes de LDA (Analyse Discriminante Lineaire) et QDA (Analyse Discriminante Quadratique) permettent d'expliquer et de prédire l'appartenance d'un individu à une classe ou un groupe prédéfini à partir de ses caractéristiques mesurées à l'aide de variables prédictives.\n",
    "\n",
    "Dans notre exemple ci-dessus, l'objectif est de prédire l'appartenance d'une fleur d'iris à l'une des 3 espèces/classes suivantes : Iris Setosa, Iris Versicolour et Iris Virginica, à partir de ses 4 caractéristiques/variables : les longueurs des sépales, les largeurs des sépales, les longeurs des pétales, les largeurs des pétales.\n",
    "\n",
    "La QDA est un classifieur qui permet de séparer les mesures de 2 ou plusieurs classes d'objects ou d'événements par une surface quadratique. La QDA est une version générale du classifieur linéaire. La LDA est un cas particulier de la QDA où les mesures de 2 ou plusieurs classes d'objets ou d'événements sont séparés par une droite.\n",
    "\n",
    "Nous pouvons constater cela dans le graphique ci-dessus : Nos points sont bien répartis dans 3 classes (classe 0, classe 1 et classe 2). Dans le cas de la LDA, les 3 classes sont séparés par des droites et dans le cas de la QDA, elles sont séparées par des paraboles.\n",
    "\n",
    "Ce script calcule également le taux d'erreur qui représente le taux de mauvais classement ou le rapport entre le nombre de mauvaises prédictions et la taille de l’échantillon. Ce dernier est un indicateur simple de la matrice de confusion. Le taux d'erreur est un estimateur de la probabilité de se tromper si l’on applique la fonction de classement dans la population. Le taux d'erreur est un bon indicateur qui permet de comparer n'importe quelle méthode de classement,et de selectionner ainsi celle qui s'avère la plus performante. \n",
    "\n",
    "Dans notre exemple ci-dessus, la LDA et la QDA affichent le même taux d'erreur à 2%. Cela est du au fait que nos 150 points sont correctement répartis entre les 3 classes. Ce taux d'erreur identique signifie que ces 2 techniques sont aussi performantes l'une que l'autre et prédisent plutôt bien l'appartenance d'une fleur d'iris à l'une des 3 classes précisées plus haut. \n"
   ]
  },
  {
   "cell_type": "markdown",
   "metadata": {},
   "source": [
    "### 2- Affichage des centres et matrices de covariance de la LDA et QDA et commentaire"
   ]
  },
  {
   "cell_type": "code",
   "execution_count": 4,
   "metadata": {},
   "outputs": [
    {
     "name": "stdout",
     "output_type": "stream",
     "text": [
      "[[1.462 0.246]\n",
      " [4.26  1.326]\n",
      " [5.552 2.026]]\n",
      "[[1.462 0.246]\n",
      " [4.26  1.326]\n",
      " [5.552 2.026]]\n"
     ]
    }
   ],
   "source": [
    "#Centres\n",
    "\n",
    "# Parametres estimes par LDA\n",
    "print(clf_lda.means_) \n",
    "# Parametres estimes par QDA \n",
    "print(clf_qda.means_) "
   ]
  },
  {
   "cell_type": "markdown",
   "metadata": {},
   "source": [
    "Les centres (ou moyennes) sont identiques car les 2 méthodes calculent la moyenne empirique sur chaque classe."
   ]
  },
  {
   "cell_type": "code",
   "execution_count": 5,
   "metadata": {
    "scrolled": true
   },
   "outputs": [
    {
     "name": "stdout",
     "output_type": "stream",
     "text": [
      "[[0.181484 0.041812]\n",
      " [0.041812 0.041044]]\n",
      "[array([[0.03015918, 0.00606939],\n",
      "       [0.00606939, 0.01110612]]), array([[0.22081633, 0.07310204],\n",
      "       [0.07310204, 0.03910612]]), array([[0.30458776, 0.04882449],\n",
      "       [0.04882449, 0.07543265]])]\n"
     ]
    }
   ],
   "source": [
    "#Matrice de covariance\n",
    "\n",
    "# Parametres estimes par LDA\n",
    "print(clf_lda.covariance_)\n",
    "# Parametres estimes par QDA \n",
    "print(clf_qda.covariance_)"
   ]
  },
  {
   "cell_type": "markdown",
   "metadata": {},
   "source": [
    "Les matrices de covariance sont différentes car le calcul se fait sur toutes les données. <br>\n",
    "NB : Dans le cadre de la LDA, on fait l'hypothèse que la matrice de covariance est la même pour chaque classe."
   ]
  },
  {
   "cell_type": "markdown",
   "metadata": {},
   "source": [
    "### 3- Visualisation des frontières de décision des 2 méthodes "
   ]
  },
  {
   "cell_type": "markdown",
   "metadata": {},
   "source": [
    "(cf graphes ci-dessus)"
   ]
  },
  {
   "cell_type": "markdown",
   "metadata": {},
   "source": [
    "Les frontières de décision de la LDA sont des droites tandis que celles de la QDA sont des paraboles. Nous pouvons constater que dans ce jeu de données, les droites et les paraboles séparent quasi identiquemennt nos 3 classes de données."
   ]
  },
  {
   "cell_type": "markdown",
   "metadata": {},
   "source": [
    "## 1.2 Classification binaire"
   ]
  },
  {
   "cell_type": "markdown",
   "metadata": {},
   "source": [
    "Une classification binaire est par définition une classification en 2 classes."
   ]
  },
  {
   "cell_type": "markdown",
   "metadata": {},
   "source": [
    "Les données à traiter ici (CTGSimple.csv) portent sur l’analyse de situations médicales. Ces données sont composées de 2126 observations et 23 attributs. <br>\n",
    "\n",
    "La variable à prédire est la variable NSP, qui prend 3 valeurs : N (Normal), S (Suspect), P (Pathologic). <br>\n",
    "<br>\n",
    "2126 cardiotocogrammes fœtaux (CTG) ont été traités automatiquement et les caractéristiques de diagnostic respectives ont été mesurés. Les CTG ont également été classés par trois obstétriciens experts et une étiquette de classification consensuelle a été attribuée à chacun d'eux. La classification concernait à la fois un schéma morphologique (A, B, C. ...) et un état fœtal (N, S, P). Par conséquent, l'ensemble de données peut être utilisé pour des expériences à 10 ou 3 classes.\n",
    "\n",
    "Voici ci-dessous les différentes informations sur les colonnes composants le jeu de données :\n",
    "\n",
    "- LB - Ligne de base FHR (battements par minute)\n",
    "- AC - # d'accélérations par seconde\n",
    "- FM - nombre de mouvements fœtaux par seconde\n",
    "- UC - Nombre de contractions utérines par seconde\n",
    "- DL - Nombre de décélérations légères par seconde\n",
    "- DS - Nombre de décélérations sévères par seconde\n",
    "- DP - Nombre de décélérations prolongées par seconde\n",
    "- ASTV - pourcentage de temps avec variabilité anormale à court terme\n",
    "- MSTV - valeur moyenne de la variabilité à court terme\n",
    "- ALTV - pourcentage de temps avec variabilité anormale à long terme\n",
    "- MLTV - valeur moyenne de la variabilité à long terme\n",
    "- Largeur - largeur de l'histogramme FHR\n",
    "- Min - minimum d'histogramme FHR\n",
    "- Max - Maximum de l'histogramme FHR\n",
    "- Nmax - Nombre de pics d'histogramme\n",
    "- Nzeros - Nombre de zéros d'histogramme\n",
    "- Mode - mode histogramme\n",
    "- Moyenne - moyenne de l'histogramme\n",
    "- Médiane - médiane de l'histogramme\n",
    "- Variance - variance d'histogramme\n",
    "- Tendance - tendance histogramme\n",
    "- CLASS - Code de classe de motif FHR (1 à 10)\n",
    "- NSP - code de classe d'état fœtal (N = normal; S = suspect; P = pathologique)"
   ]
  },
  {
   "cell_type": "markdown",
   "metadata": {},
   "source": [
    "### 1- Chargement des données sous Python"
   ]
  },
  {
   "cell_type": "code",
   "execution_count": 6,
   "metadata": {
    "scrolled": false
   },
   "outputs": [
    {
     "name": "stdout",
     "output_type": "stream",
     "text": [
      "Notre dataframe df a pour dimension :  (2126, 42)\n",
      " \n",
      "Visualisation des 5 premières lignes du dataframe df : \n",
      "     b     e  AC  FM  UC  DL  DS  DP  DR   LB  ...  C  D  E  AD  DE  LD  FS  \\\n",
      "0  240   357   0   0   0   0   0   0   0  120  ... -1 -1 -1  -1  -1  -1   1   \n",
      "1    5   632   4   0   4   2   0   0   0  132  ... -1 -1 -1   1  -1  -1  -1   \n",
      "2  177   779   2   0   5   2   0   0   0  133  ... -1 -1 -1   1  -1  -1  -1   \n",
      "3  411  1192   2   0   6   2   0   0   0  134  ... -1 -1 -1   1  -1  -1  -1   \n",
      "4  533  1147   4   0   5   0   0   0   0  132  ... -1 -1 -1  -1  -1  -1  -1   \n",
      "\n",
      "   SUSP  CLASS  NSP  \n",
      "0    -1      9    2  \n",
      "1    -1      6    1  \n",
      "2    -1      6    1  \n",
      "3    -1      6    1  \n",
      "4    -1      2    1  \n",
      "\n",
      "[5 rows x 42 columns]\n",
      " \n",
      " La variable cible Y a pour dimension :  (2126,)\n",
      " \n",
      "L'ensemble de nos variables explicatives X a pour dimension : (2126, 21)\n"
     ]
    }
   ],
   "source": [
    "#Chargement du script CTGSimple.csv disponible sur moodle et sur https://archive.ics. uci.edu/ml/datasets/cardiotocography.\n",
    "#et portant sur l'analyse de situations médicales\n",
    "\n",
    "import numpy as np\n",
    "import pandas as pd\n",
    "import seaborn as sb\n",
    "import matplotlib.pyplot as plt\n",
    "from sklearn.model_selection import train_test_split \n",
    "from sklearn.preprocessing import StandardScaler\n",
    "\n",
    "df = pd.read_csv(\"./CTGSimple.csv\", sep=\"\\t\",header=1) #Chargement des données au format csv\n",
    "print(\"Notre dataframe df a pour dimension : \", df.shape)\n",
    "print(\" \")\n",
    "print(\"Visualisation des 5 premières lignes du dataframe df : \")\n",
    "print(df.head())\n",
    "Y = df[\"NSP\"].values #attribution des valeurs de la colonne NSP à Y qu représente la variable cible\n",
    "print(\" \")\n",
    "print(\" La variable cible Y a pour dimension : \",Y.shape)\n",
    "variables = [\"LB\",\"AC.1\",\"FM.1\",\"UC.1\",\"DL.1\",\"DS.1\",\"DP.1\",\"ASTV\",\n",
    "    \"MSTV\",\"ALTV\",\"MLTV\", \"Width\",\"Min\",\"Max\",\"Nmax\", \"Nzeros\",\"Mode\",\"Mean\",\"Median\",\"Variance\",\"Tendency\"]\n",
    "X = df[variables].values #attribution de plusieurs variables à X qui représente l'ensemble des variables explicatives\n",
    "print(\" \")\n",
    "print(\"L'ensemble de nos variables explicatives X a pour dimension :\", X.shape)"
   ]
  },
  {
   "cell_type": "markdown",
   "metadata": {},
   "source": [
    "### 2- Analyse statistique"
   ]
  },
  {
   "cell_type": "code",
   "execution_count": 9,
   "metadata": {
    "scrolled": false
   },
   "outputs": [
    {
     "name": "stdout",
     "output_type": "stream",
     "text": [
      "Classe 1 contient 1655 points\n",
      "Classe 2 contient 295 points\n",
      "Classe 3 contient 176 points\n"
     ]
    },
    {
     "data": {
      "text/plain": [
       "<matplotlib.axes._subplots.AxesSubplot at 0x1a2a7e4c50>"
      ]
     },
     "execution_count": 9,
     "metadata": {},
     "output_type": "execute_result"
    },
    {
     "data": {
      "image/png": "[encoded data removed]",
      "text/plain": [
       "<Figure size 432x288 with 2 Axes>"
      ]
     },
     "metadata": {
      "needs_background": "light"
     },
     "output_type": "display_data"
    }
   ],
   "source": [
    "import matplotlib.pyplot as plt\n",
    "\n",
    "uniqLabels, counts = np.unique(Y, return_counts=True) \n",
    "for i, lab in enumerate(uniqLabels):\n",
    "    print( \"Classe {} contient {} points\".format(lab, counts[i])) \n",
    "corr_mat = np.corrcoef(X.T)\n",
    "sb.heatmap(corr_mat)\n",
    "# trace des boxplot\n",
    "#fig, ax = plt.subplots(figsize=(5, 5))\n",
    "#sb.boxplot(X, orient=\"v\", palette=\"Set1\",width=1.5,notch=True,ax=ax)"
   ]
  },
  {
   "cell_type": "code",
   "execution_count": 10,
   "metadata": {},
   "outputs": [
    {
     "data": {
      "image/png": "[encoded data removed]",
      "text/plain": [
       "<Figure size 1080x720 with 1 Axes>"
      ]
     },
     "metadata": {
      "needs_background": "light"
     },
     "output_type": "display_data"
    }
   ],
   "source": [
    "#fig, ax = plt.subplots(figsize=(15,10)) #redimensionner ma boxplot\n",
    "#plt.boxplot(X)\n",
    "#plt.show()\n",
    "\n",
    "plt.figure(figsize=(15,10))\n",
    "box = plt.boxplot(X)\n",
    "box = plt.xticks([i + 1 for i in range(0,21)], variables, rotation='vertical') #pour afficher les noms de colonnes en abscisse\n"
   ]
  },
  {
   "cell_type": "markdown",
   "metadata": {},
   "source": [
    "On constate après observation de la boxplot que les variables n'ont pas tous le même ordre de grandeur (par exemple certaines vont jusqu'à 250 alors que d'autres vont jusqu'à 10 maximum). Elles doivent par conséquent être normalisées afin de ne pas fausser notre prédiction. <br>"
   ]
  },
  {
   "cell_type": "markdown",
   "metadata": {},
   "source": [
    "### Transformation du problème en un problème de classification binaire par fusion des classes 2 et 3 en une seule"
   ]
  },
  {
   "cell_type": "code",
   "execution_count": 11,
   "metadata": {},
   "outputs": [
    {
     "name": "stdout",
     "output_type": "stream",
     "text": [
      "      0\n",
      "0     2\n",
      "1     1\n",
      "2     1\n",
      "3     1\n",
      "4     1\n",
      "5     3\n",
      "6     3\n",
      "7     3\n",
      "8     3\n",
      "9     3\n",
      "10    2\n",
      "11    2\n",
      "12    1\n",
      "13    1\n",
      "14    1\n",
      "15    1\n",
      "16    1\n",
      "17    2\n",
      "18    1\n",
      "19    1\n",
      "20    3\n",
      "21    1\n",
      "22    3\n",
      "23    3\n",
      "24    3\n",
      "25    3\n",
      "26    3\n",
      "27    3\n",
      "28    2\n",
      "29    1\n",
      "...  ..\n",
      "2096  1\n",
      "2097  1\n",
      "2098  1\n",
      "2099  1\n",
      "2100  1\n",
      "2101  1\n",
      "2102  1\n",
      "2103  1\n",
      "2104  1\n",
      "2105  1\n",
      "2106  1\n",
      "2107  1\n",
      "2108  1\n",
      "2109  1\n",
      "2110  1\n",
      "2111  1\n",
      "2112  1\n",
      "2113  1\n",
      "2114  1\n",
      "2115  1\n",
      "2116  1\n",
      "2117  1\n",
      "2118  1\n",
      "2119  1\n",
      "2120  1\n",
      "2121  2\n",
      "2122  2\n",
      "2123  2\n",
      "2124  2\n",
      "2125  1\n",
      "\n",
      "[2126 rows x 1 columns]\n"
     ]
    }
   ],
   "source": [
    "#Visualisation de Y\n",
    "dfY=pd.DataFrame(Y)\n",
    "print(dfY)"
   ]
  },
  {
   "cell_type": "markdown",
   "metadata": {},
   "source": [
    "Nous constatons que la variable cible Y est bien constituée de 3 classes 1, 2 et 3"
   ]
  },
  {
   "cell_type": "code",
   "execution_count": 12,
   "metadata": {},
   "outputs": [
    {
     "name": "stdout",
     "output_type": "stream",
     "text": [
      "      0\n",
      "0     2\n",
      "1     1\n",
      "2     1\n",
      "3     1\n",
      "4     1\n",
      "5     2\n",
      "6     2\n",
      "7     2\n",
      "8     2\n",
      "9     2\n",
      "10    2\n",
      "11    2\n",
      "12    1\n",
      "13    1\n",
      "14    1\n",
      "15    1\n",
      "16    1\n",
      "17    2\n",
      "18    1\n",
      "19    1\n",
      "20    2\n",
      "21    1\n",
      "22    2\n",
      "23    2\n",
      "24    2\n",
      "25    2\n",
      "26    2\n",
      "27    2\n",
      "28    2\n",
      "29    1\n",
      "...  ..\n",
      "2096  1\n",
      "2097  1\n",
      "2098  1\n",
      "2099  1\n",
      "2100  1\n",
      "2101  1\n",
      "2102  1\n",
      "2103  1\n",
      "2104  1\n",
      "2105  1\n",
      "2106  1\n",
      "2107  1\n",
      "2108  1\n",
      "2109  1\n",
      "2110  1\n",
      "2111  1\n",
      "2112  1\n",
      "2113  1\n",
      "2114  1\n",
      "2115  1\n",
      "2116  1\n",
      "2117  1\n",
      "2118  1\n",
      "2119  1\n",
      "2120  1\n",
      "2121  2\n",
      "2122  2\n",
      "2123  2\n",
      "2124  2\n",
      "2125  1\n",
      "\n",
      "[2126 rows x 1 columns]\n"
     ]
    }
   ],
   "source": [
    "#Fusion des classes 2 et 3 en une seule\n",
    "classe = 3\n",
    "Y[np.in1d(Y, classe)] = 2 #merge des classe 3 et 3 classe 2\n",
    "dfY1=pd.DataFrame(Y)\n",
    "print(dfY1)"
   ]
  },
  {
   "cell_type": "markdown",
   "metadata": {},
   "source": [
    "La variable Y est maintenant constituée de 2 classes 1 et 2."
   ]
  },
  {
   "cell_type": "markdown",
   "metadata": {},
   "source": [
    "### 3- Séparation des données en deux ensembles : apprentissage et test"
   ]
  },
  {
   "cell_type": "code",
   "execution_count": 13,
   "metadata": {},
   "outputs": [],
   "source": [
    " Xa, Xt, Ya, Yt = train_test_split(X, Y, shuffle=True, test_size=0.5, stratify=Y) #Séparation à 50% app, 50% test"
   ]
  },
  {
   "cell_type": "markdown",
   "metadata": {},
   "source": [
    "Le paramètre shuffle permet d'indiquer s'il faut ou non mélanger les données avant le split.\n",
    "Le paramètre stratify permet de répartir équitablement les données dans les différentes classes lors du split. stratify prend en argument Y.\n",
    "Shuffle prend TRUE par défault et stratify prend None par défaut. Si shuffle est égal à FALSE, stratify doit obligatoirement être égal à None.\n",
    "<br>\n",
    "Test_size égal à 0,5 permet de diviser notre jeu de données en deux sous-ensemble de taille égale."
   ]
  },
  {
   "cell_type": "code",
   "execution_count": 14,
   "metadata": {},
   "outputs": [
    {
     "name": "stdout",
     "output_type": "stream",
     "text": [
      " Notre jeu de données d'apprentissage a pour dimension : Xa =  (1063, 21) et Ya =  (1063,)\n",
      " Notre jeu de données de test a pour dimension : Xt =  (1063, 21) et Yt (1063,)\n"
     ]
    }
   ],
   "source": [
    "print(\" Notre jeu de données d'apprentissage a pour dimension : Xa = \", Xa.shape, \"et Ya = \", Ya.shape)\n",
    "print(\" Notre jeu de données de test a pour dimension : Xt = \", Xt.shape, \"et Yt\", Yt.shape)"
   ]
  },
  {
   "cell_type": "markdown",
   "metadata": {},
   "source": [
    "### 4- Centrer et réduire les données (le jeu d’apprentissage sert de référence)"
   ]
  },
  {
   "cell_type": "code",
   "execution_count": 15,
   "metadata": {},
   "outputs": [],
   "source": [
    "sc = StandardScaler(with_mean=True, with_std=True)\n",
    "sc = sc.fit(Xa) #NB :ne jamais faire de fit sur les donnees de test car cela équivaut à biaiser le jeu de test\n",
    "Xa = sc.transform(Xa)\n",
    "Xt = sc.transform(Xt)"
   ]
  },
  {
   "cell_type": "markdown",
   "metadata": {},
   "source": [
    "Il est necessaire de faire la mise à l'échelle (calculer moyenne et ecart type, puis stocker ces valeurs) avant d'appliquer la transformation, l'ordre est important, l'inverse ne marche pas, il est également possible d'utilser la fonction fit_transform(self, X[, y]) qui va procéder de la même manière, c'est-à-dire d'abord fit-er les données puis les transformer. En revanche il n'est pas conseillé de faire l’enchaînement d’instructions suivantes pour la normalisation : \n",
    "- sc = sc.fit(Xa) ; \n",
    "- Xa = sc.transform(Xa) ; \n",
    "- sc = sc.fit(Xt) ; \n",
    "- Xt = sc.transform(Xt). \n",
    "\n",
    "Le fit doit se faire uniquement sur notre échantillon d'apprentissage et jamais sur l'échantillon de test car cela équivaut à biaiser ce dernier. Le modèle prédictif doit s'appliquer aux vrais données et non pas à des données tests modifiées."
   ]
  },
  {
   "cell_type": "markdown",
   "metadata": {},
   "source": [
    "### 5- Classification par la LDA et QDA sur les données d'apprentissage et de test"
   ]
  },
  {
   "cell_type": "markdown",
   "metadata": {},
   "source": [
    "### Application de la LDA et QDA sur les données d'apprentissage et de test"
   ]
  },
  {
   "cell_type": "code",
   "execution_count": 16,
   "metadata": {},
   "outputs": [
    {
     "name": "stdout",
     "output_type": "stream",
     "text": [
      "LDA : taux derreur apprentissage = 8.936970837253057%\n",
      "LDA : taux derreur test= 12.041392285983067%\n",
      "\n",
      "\n",
      "QDA : taux derreur apprentissage = 19.09689557855127%\n",
      "QDA : taux derreur test = 18.438381937911572%\n"
     ]
    },
    {
     "name": "stderr",
     "output_type": "stream",
     "text": [
      "/anaconda3/lib/python3.7/site-packages/sklearn/discriminant_analysis.py:388: UserWarning: Variables are collinear.\n",
      "  warnings.warn(\"Variables are collinear.\")\n",
      "/anaconda3/lib/python3.7/site-packages/sklearn/discriminant_analysis.py:692: UserWarning: Variables are collinear\n",
      "  warnings.warn(\"Variables are collinear\")\n",
      "/anaconda3/lib/python3.7/site-packages/sklearn/discriminant_analysis.py:692: UserWarning: Variables are collinear\n",
      "  warnings.warn(\"Variables are collinear\")\n"
     ]
    }
   ],
   "source": [
    "import numpy as np\n",
    "import matplotlib.pyplot as plt\n",
    "from matplotlib.colors import ListedColormap\n",
    "\n",
    "from sklearn import datasets\n",
    "from sklearn.discriminant_analysis import LinearDiscriminantAnalysis\n",
    "\n",
    "# LDA\n",
    "clf_lda = LinearDiscriminantAnalysis(solver='svd', store_covariance = True)\n",
    "clf_lda.fit(Xa, Ya)\n",
    "Y_lda = clf_lda.predict(Xa) # prédiction sur les données d'apprentissage\n",
    "err_lda = sum(Y_lda != Ya)/Ya.size #erreur sur les données d'apprentissage\n",
    "print('LDA : taux d''erreur apprentissage = {}%'.format(100*err_lda)) \n",
    "Y_ldat = clf_lda.predict(Xt) # prédiction sur les données de test\n",
    "err_ldat = sum(Y_ldat != Yt)/Yt.size #erreur sur les données de test \n",
    "print('LDA : taux d''erreur test= {}%'.format(100*err_ldat))\n",
    "\n",
    "print(\"\\n\") #saut de ligne en python\n",
    "\n",
    "# QDA\n",
    "clf_qda = QuadraticDiscriminantAnalysis(store_covariance = True) #création du modèle QDA\n",
    "clf_qda.fit(Xa, Ya) #entrainement du modèle QDA sur les données de Xa avec les classes de Ya\n",
    "Y_qda = clf_qda.predict(Xa) # prédiction sur les données d'apprentissage\n",
    "err_qda = sum(Y_qda!= Ya)/Ya.size #erreur sur les données d'apprentissage\n",
    "print('QDA : taux d''erreur apprentissage = {}%'.format(100*err_qda))\n",
    "Y_qdat = clf_qda.predict(Xt) # prédiction sur les données de test\n",
    "err_qdat = sum(Y_qdat!= Yt)/Yt.size #erreur sur les données de test\n",
    "print('QDA : taux d''erreur test = {}%'.format(100*err_qdat))"
   ]
  },
  {
   "cell_type": "markdown",
   "metadata": {},
   "source": [
    "Avec la QDA, nous obtenons un taux d'erreur plus important qu'avec la LDA. Cela peut être expliqué par le fait que plus un classifieur est complexe, plus le risque de sur-apprentissage est grand, et par conséquent plus le taux d'erreur sera élevé. Par ailleurs, la QDA aggrandit la dimension des données, or le degré de complexité d'un classifieur est lié à la dimension. Plus la dimension est grande, plus le degré de compléxité sera grande, plus le risque de sur apprentissage est grand, et par conséquent plus le taux d'erreur sera élevé.\n",
    "\n",
    "Un classifieur trop simple ne sera efficace ni sur les données d'apprentissage ni sur les données de test. Il est  important de trouver le bon degré de complexité du classifieur pour obtenir un classifieur efficace. <br>\n",
    "\n",
    "NB : L'écart entre l'erreur sur les données d'apprentissage et l'erreur sur les données de test ne doit pas non plus être trp grande sinon il y a probablement suraprentissage."
   ]
  },
  {
   "cell_type": "markdown",
   "metadata": {},
   "source": [
    "## 1.3 - Cas multi-classe : données Mnist"
   ]
  },
  {
   "cell_type": "markdown",
   "metadata": {},
   "source": [
    "Dans cette partie, nous allons illustrer le fait que la méthode LDA s’applique de façon directe sur des problèmes de classification multi-classes. On considère les données Mnist qui comportent des images de chiffres manuscrits (0 à 9) qu’on veut classer. <br>\n",
    "Le dataset Mnist est une base de données de chiffres écrits à la main. Il regroupe 60000 images d'apprentissage et 10000 images de test, issues d'une base de données antérieure, appelée simplement NIST. Ce sont des images en noir et blanc, normalisées centrées de 28 pixels de côté. <br>\n",
    "<br>\n",
    "Au total il y a 784 pixels qui forment nos 784 variables explicatives. Le but est donc de classifier chaque image à partir des 784 attributs."
   ]
  },
  {
   "cell_type": "markdown",
   "metadata": {},
   "source": [
    "### 1- Charger les données"
   ]
  },
  {
   "cell_type": "code",
   "execution_count": 33,
   "metadata": {},
   "outputs": [
    {
     "name": "stdout",
     "output_type": "stream",
     "text": [
      " Notre jeu de données d'apprentissage a pour dimension : Xam =  (60000, 784) et Yam =  (60000,)\n",
      " Notre jeu de données de test a pour dimension : Xt =  (10000, 784) et Yt (10000,)\n"
     ]
    }
   ],
   "source": [
    "import scipy.io as sio #bibliotheque en python à usage scientifique utilisant les tableaux et matrices du module NumPy\n",
    "\n",
    "digits_app = sio.loadmat(\"mnist-app.mat\") # chargement des données mnist d'apprentissage\n",
    "Xam, Yam = digits_app[\"Xa\"], digits_app[\"Ya\"][:,0] #séparation des données d'apprentissage en X et Y (variables explicatives et variable cible)\n",
    "digits_test = sio.loadmat(\"mnist-test.mat\") # chargement des données mnist de test\n",
    "Xtm, Ytm = digits_test[\"Xt\"], digits_test[\"Yt\"][:,0] #séparation des données de test en X et Y (variables explicatives et variable cible)\n",
    "print(\" Notre jeu de données d'apprentissage a pour dimension : Xam = \", Xam.shape, \"et Yam = \", Yam.shape) #affichage des dimensions\n",
    "print(\" Notre jeu de données de test a pour dimension : Xt = \", Xtm.shape, \"et Yt\", Ytm.shape) #affichage des dimensions"
   ]
  },
  {
   "cell_type": "markdown",
   "metadata": {},
   "source": [
    "Nous allons selectionner uniquement les variables donc la variance est supériere à 0.001. Cela permettra de garder que les variables qui influent vraiment sur la classification."
   ]
  },
  {
   "cell_type": "markdown",
   "metadata": {},
   "source": [
    "### 2- Analyse statistique sur les données d'apprentissage"
   ]
  },
  {
   "cell_type": "code",
   "execution_count": 34,
   "metadata": {},
   "outputs": [
    {
     "name": "stdout",
     "output_type": "stream",
     "text": [
      "Classe 0 contient 5923 points\n",
      "Classe 1 contient 6742 points\n",
      "Classe 2 contient 5958 points\n",
      "Classe 3 contient 6131 points\n",
      "Classe 4 contient 5842 points\n",
      "Classe 5 contient 5421 points\n",
      "Classe 6 contient 5918 points\n",
      "Classe 7 contient 6265 points\n",
      "Classe 8 contient 5851 points\n",
      "Classe 9 contient 5949 points\n"
     ]
    }
   ],
   "source": [
    "import matplotlib.pyplot as plt\n",
    "\n",
    "uniqLabels, counts = np.unique(Yam, return_counts=True) \n",
    "for i, lab in enumerate(uniqLabels):\n",
    "    print( \"Classe {} contient {} points\".format(lab, counts[i])) "
   ]
  },
  {
   "cell_type": "markdown",
   "metadata": {},
   "source": [
    "Notre jeu de données cible (construit avec les données mnist d'apprentissage) contient 9 classes. <br>\n",
    "On constate également que les points sont équitablement répartis entre les classes."
   ]
  },
  {
   "cell_type": "code",
   "execution_count": 35,
   "metadata": {
    "scrolled": false
   },
   "outputs": [
    {
     "name": "stderr",
     "output_type": "stream",
     "text": [
      "/anaconda3/lib/python3.7/site-packages/numpy/lib/function_base.py:2529: RuntimeWarning: divide by zero encountered in true_divide\n",
      "  c /= stddev[:, None]\n",
      "/anaconda3/lib/python3.7/site-packages/numpy/lib/function_base.py:2529: RuntimeWarning: invalid value encountered in true_divide\n",
      "  c /= stddev[:, None]\n",
      "/anaconda3/lib/python3.7/site-packages/numpy/lib/function_base.py:2530: RuntimeWarning: divide by zero encountered in true_divide\n",
      "  c /= stddev[None, :]\n",
      "/anaconda3/lib/python3.7/site-packages/numpy/lib/function_base.py:2530: RuntimeWarning: invalid value encountered in true_divide\n",
      "  c /= stddev[None, :]\n"
     ]
    },
    {
     "data": {
      "text/plain": [
       "<matplotlib.axes._subplots.AxesSubplot at 0x1a1aba01d0>"
      ]
     },
     "execution_count": 35,
     "metadata": {},
     "output_type": "execute_result"
    },
    {
     "data": {
      "image/png": "[encoded data removed]",
      "text/plain": [
       "<Figure size 432x288 with 2 Axes>"
      ]
     },
     "metadata": {
      "needs_background": "light"
     },
     "output_type": "display_data"
    }
   ],
   "source": [
    "corr_mat = np.corrcoef(Xam.T) #matrice de correlation sur les données Xam (ensemble des variables explicatives sur les données d'apprentissage)\n",
    "\n",
    "sb.heatmap(corr_mat)"
   ]
  },
  {
   "cell_type": "markdown",
   "metadata": {},
   "source": [
    "Le jeu de données ayant une trop grande dimension, la matrice de corrélation n'étant pas trop lisible."
   ]
  },
  {
   "cell_type": "markdown",
   "metadata": {},
   "source": [
    "### Etude de la variance des variables"
   ]
  },
  {
   "cell_type": "code",
   "execution_count": 41,
   "metadata": {},
   "outputs": [
    {
     "data": {
      "text/plain": [
       "<matplotlib.image.AxesImage at 0x1a186aef28>"
      ]
     },
     "execution_count": 41,
     "metadata": {},
     "output_type": "execute_result"
    },
    {
     "data": {
      "image/png": "[encoded data removed]",
      "text/plain": [
       "<Figure size 432x288 with 1 Axes>"
      ]
     },
     "metadata": {
      "needs_background": "light"
     },
     "output_type": "display_data"
    }
   ],
   "source": [
    "plt.imshow(Xam[35].reshape(28,28), cmap='gray') #affichage d'un point quelconque et utilisation de la fonction cmap"
   ]
  },
  {
   "cell_type": "code",
   "execution_count": 42,
   "metadata": {},
   "outputs": [],
   "source": [
    "#calcul de la variance v_a de Xam\n",
    "v_a=[]\n",
    "for i in range(0,784) :\n",
    "    v_a.append((np.var(Xam[:,i])))"
   ]
  },
  {
   "cell_type": "code",
   "execution_count": 43,
   "metadata": {
    "scrolled": false
   },
   "outputs": [
    {
     "name": "stdout",
     "output_type": "stream",
     "text": [
      "[0.0, 0.0, 0.0, 0.0, 0.0, 0.0, 0.0, 0.0, 0.0, 0.0, 0.0, 0.0, 0.2259289233333334, 1.8528053055555558, 0.7775870400000003, 0.0013499775000000006, 0.0, 0.0, 0.0, 0.0, 0.0, 0.0, 0.0, 0.0, 0.0, 0.0, 0.0, 0.0, 0.0, 0.0, 0.0, 0.0, 0.004266595555555557, 0.037882493055555536, 1.113030486388889, 4.389426986388889, 8.77367218638889, 11.047991189999998, 23.709667982222225, 30.569698128888902, 32.417443499722225, 32.416317412222234, 35.08214253305557, 33.24758844416667, 35.645222595555566, 29.304641677500012, 18.752859986388884, 13.81259247888889, 10.29552043305556, 3.775510132222221, 1.4670816597222218, 0.6505541822222223, 0.0, 0.0, 0.0, 0.0, 0.0, 0.0, 0.06826552888888889, 0.01683284333333334, 0.6650350308333332, 0.20931993305555557, 7.118381590000002, 24.944278773333334, 50.92555716638888, 94.3689228863889, 167.19335775999997, 241.49100165972212, 354.2043742108334, 482.4347696641665, 614.6989340530556, 686.2921371975, 718.2021900663891, 662.1181211641667, 541.700964728889, 402.5823801197223, 233.8804655197222, 123.52129109749998, 55.772185305555574, 15.687917133055551, 6.24850978638889, 1.2154587988888887, 0.0, 0.0, 0.0, 0.0, 0.36275621222222226, 0.4349157775000001, 0.7293389330555556, 9.923699278888884, 36.342770659722234, 98.50200812333331, 213.01720549305554, 423.72122052333333, 704.0401025322224, 1058.9990226666666, 1428.0374936308338, 1865.7463293288888, 2283.812413826388, 2550.4076570655543, 2498.009354019722, 2271.7464739663887, 1848.9788932222227, 1343.908561364167, 806.8178830108335, 442.23630986555554, 190.80890826555546, 76.99350926222223, 28.800912326388886, 3.318995678888888, 0.28082549333333334, 0.0, 0.0, 0.02406626555555555, 0.45152278638888854, 0.9283774108333334, 11.393174553055553, 66.40253895305554, 175.41596421222224, 433.60991815305556, 877.1964286041666, 1568.4349854930558, 2487.0269679288886, 3576.684518043333, 4799.984304333055, 6066.83065197222, 7019.503422026667, 7474.336293240001, 7337.502825305557, 6624.603608564166, 5483.110323819722, 4129.273947195556, 2733.2114946330557, 1595.551283373333, 823.080699198889, 385.9056430997222, 148.03093692333331, 28.44392327083334, 4.327870877499999, 0.12416253222222218, 0.0, 0.0, 0.7513768997222223, 8.254103444166663, 58.19987278222222, 260.55386044, 659.8787607530555, 1344.9923162330554, 2424.1353570197225, 3877.783928993055, 5557.829499839998, 7356.41531279889, 9142.734905177498, 10625.656792777501, 11484.55681252889, 11771.45467661972, 11640.913480528889, 11047.895198437498, 9787.170280066386, 8013.282495305555, 5888.172483305556, 3828.7744333333335, 2256.3860695663884, 1217.0695465530555, 521.2636969530556, 127.05862655555555, 19.675673332222217, 0.3278112433333334, 0.0, 0.0010832997222222222, 3.0830104166666668, 37.076867278888884, 200.69646576638885, 609.2228913233332, 1394.2909635155554, 2678.418297012222, 4413.436041604165, 6483.912808133055, 8537.665016173332, 10297.667515733056, 11604.36928964889, 12325.164626532222, 12582.444562586386, 12619.074716577497, 12618.220404888893, 12577.825988888892, 12071.315227453055, 10761.85582053222, 8662.06520568639, 6099.224437499722, 3827.1527677233344, 2112.9100194122225, 970.5728703455555, 317.70502715972214, 59.498728043333315, 4.244015243333334, 0.03681605305555554, 2.2244105955555553, 16.83094122222223, 101.37868441083329, 418.7277395733333, 1103.9181258122223, 2323.3215103974994, 4093.6089767599997, 6249.959319453055, 8513.533697493058, 10353.238258419722, 11549.342223826388, 12089.415082399722, 12189.819116659724, 12195.052758553056, 12126.778038309998, 12149.499799510833, 12248.538048582222, 12316.602488888886, 11800.884467128888, 10212.538286395553, 7723.394188686388, 5011.770204659723, 2792.055028897499, 1274.6769665555555, 453.99117213222235, 81.57849505666665, 4.291533453055555, 0.6548167955555555, 8.60776766638889, 58.45168426555556, 238.79477231083328, 722.3387298488891, 1618.3121933155553, 3142.415492699722, 5281.018646573333, 7755.882504310832, 10012.950284333334, 11499.535312419725, 12191.426543653055, 12345.16746232639, 12402.882198844167, 12362.4521021975, 12276.919474244165, 12268.824510330835, 12325.322435190003, 12406.352547128892, 12144.129034306667, 10940.76998813222, 8582.056047573333, 5637.501850619721, 3009.1128745555557, 1321.2399945555555, 466.5049662197221, 79.72442749305556, 4.051177733055555, 0.6790763155555555, 14.171218382222225, 93.36758893305559, 341.2296376197222, 873.8054308330552, 1879.7026093322218, 3640.0667986330545, 6090.558076799722, 8765.874572523333, 10895.662113465554, 12097.379402309998, 12420.845706448888, 12395.343014997501, 12123.734258586388, 11875.38717216, 11826.05000838639, 11952.835549986388, 12219.251491728888, 12351.061340995557, 12095.35629882639, 10936.521305697499, 8622.787526745555, 5602.00590582639, 2813.920190286389, 1078.9190893822222, 327.1123225322222, 55.53254663888889, 3.987253819722222, 1.3336555555555558, 18.967217945555557, 98.11573613222222, 329.8351873263888, 846.1150141597223, 1888.253497945556, 3817.4728875330547, 6460.081433065557, 9305.511191486388, 11307.683778395558, 12178.322935856664, 12270.143050933057, 11658.492298115554, 10831.304357066389, 10600.292678638889, 11064.551374166389, 11536.60414632639, 12043.247581915557, 12202.372752599722, 11907.089641848888, 10495.534352462226, 8083.782969104167, 5151.629957366389, 2476.838496638889, 833.7678330833334, 200.3247366566666, 36.04162330555554, 2.4893157288888896, 0.7072647955555554, 13.52896304, 79.50124055305552, 243.78129453222223, 703.5867596597225, 1800.089961456667, 3897.930582212223, 6810.480217933055, 9773.129823719724, 11597.596939888888, 12141.739039659724, 11841.578154410836, 10828.19748218222, 10024.202444345554, 10561.000955662223, 11339.630823864169, 11653.556834826666, 12084.942629993055, 12192.074777678888, 11648.29092975, 9801.469153077502, 7242.347790286387, 4701.64385079, 2369.0528652863895, 710.3978809863889, 97.8580727822222, 19.75439975, 0.8009666388888891, 0.5132188933333334, 7.23677509972222, 44.26475319888888, 164.20113126638884, 580.5271619722221, 1804.8810544975004, 4182.583991933055, 7369.880436665558, 10304.399744888888, 11875.035405110002, 12130.342908433053, 11704.426821862218, 10812.515887770833, 10619.173169553053, 11860.077915643333, 12285.138082599718, 12065.245832782222, 12344.533556123331, 12375.520929553053, 11317.359243419723, 9023.760735305555, 6625.792810764167, 4468.608600745555, 2477.23471359, 779.5032587530557, 71.40614610416665, 13.76291795305556, 1.0499299722222224, 0.017066382222222225, 2.7857169374999997, 23.040615153055562, 113.23784622222225, 547.8386153055555, 1988.0935326388897, 4686.95350556, 7966.005324853056, 10702.077714345558, 11983.156212344165, 12120.068932493055, 11732.982148195557, 11310.734357376668, 11819.201897764166, 12953.412473305556, 12455.846819728891, 12088.310793764165, 12577.255456464167, 12443.32907988889, 10960.651751732225, 8630.965450915555, 6515.692338839998, 4547.335326826666, 2680.0578359375004, 962.1570394663889, 96.5254925766667, 12.609963766388889, 2.1538819155555546, 0.21281311972222217, 1.0665819374999999, 8.76456597222222, 82.45392309972219, 561.7170154930554, 2300.3629783955557, 5215.855812262221, 8420.459763053055, 10871.65452461972, 11968.18342033305, 12002.129223566391, 11746.508648515553, 11710.18192523083, 12443.432242266388, 12933.876060770835, 11995.034660373334, 12064.65923959889, 12628.835530270833, 12337.150086599724, 10870.800822730835, 8828.452008212224, 6806.745525262223, 4806.026329582222, 2859.6455526041673, 1088.9331674930554, 141.56914124333332, 14.072402997500001, 0.10071175305555555, 0.023632795555555555, 0.8518517155555554, 5.848932656666667, 90.07110215972223, 642.9498650122223, 2702.0333635775, 5651.464646833057, 8544.339087198889, 10657.838618478889, 11700.339042086393, 11780.10011359889, 11740.514992745555, 12007.016863353056, 12680.456269026667, 12682.18181501222, 11952.323705664168, 12400.110813083333, 12681.699842878887, 12065.686362576667, 10849.531856795555, 9135.361167590001, 7182.053065795555, 5017.334454653056, 2862.8687983066675, 1102.9831633863892, 196.4367024788889, 25.028748486388885, 1.4140493055555547, 0.026666222222222202, 0.3497509322222219, 11.841374555555557, 105.30334586555557, 810.373597998889, 3093.8656275988888, 5942.6072841597215, 8375.851745595559, 10122.26114938639, 11040.57556472889, 11273.359496964169, 11503.957739159721, 12100.129916133055, 12752.35536524, 12688.568726659723, 12384.020019777501, 12576.668988533056, 12372.278732390003, 11774.663634555554, 10822.181378786388, 9375.007579555555, 7269.389539888887, 4950.830499145555, 2711.6857109530547, 1047.1039815308332, 234.50257358999988, 31.422427749999997, 1.893082043333333, 0.0, 0.6648969530555555, 19.51617782666667, 166.4231737775, 1119.961485012222, 3494.107337973333, 6079.703151893333, 8106.172550677499, 9485.620242382223, 10279.983028132225, 10655.746421326388, 11122.045806443333, 11789.722542430834, 12296.407191493054, 12525.166794416666, 12492.35498715972, 12334.219123305555, 12067.219616777498, 11723.737909993057, 10891.454109799723, 9359.001060133056, 7075.117717776668, 4592.973672437501, 2422.27570896, 938.4105441108331, 255.99438888888892, 34.159485998888876, 0.6878710863888893, 0.10349639000000001, 0.7005550663888889, 29.34531975000001, 277.1947939775, 1465.2025165641664, 3875.7819874488896, 6324.124915972223, 8127.538869412222, 9249.570637410834, 10016.372136048889, 10570.144438665555, 10993.075463886387, 11323.801333826666, 11909.998317328887, 12360.118661493336, 12310.686261419725, 12143.270209062219, 12144.90408238639, 11885.46787132639, 10949.063527412221, 9084.04559882639, 6639.820125412224, 4179.126550886389, 2142.887754555556, 837.7851844308335, 231.0019178974999, 23.792904528888897, 1.558101566388888, 0.003749937499999998, 1.1662348997222218, 51.86373943305555, 387.3034300997221, 1693.5165069663892, 4147.699925382221, 6649.273833305556, 8525.081461795557, 9736.365878310833, 10570.22742869972, 11124.733538576664, 11495.269764888888, 11784.281739412223, 12168.61865676639, 12424.20569459972, 12331.782084764167, 12232.810067353055, 12341.524877083331, 11883.22370848639, 10508.579447776663, 8366.472416604167, 5860.406376932223, 3511.2903225322225, 1721.4562046774997, 665.9226526641665, 186.83457441666667, 25.27044577666666, 0.7249199722222218, 0.0, 2.179066928888889, 58.861275999999975, 426.94013455555563, 1658.6029630308337, 3927.1133316597225, 6646.867121453055, 8931.888744398888, 10473.61306975, 11385.857761173333, 11899.775548326388, 12192.094538976668, 12365.512711812222, 12455.63544509972, 12426.58638582639, 12368.8363919375, 12373.735119270834, 12212.496399305555, 11348.707802253055, 9538.632385744168, 7040.5967104166675, 4570.835934398889, 2561.2732910863892, 1219.4195270833334, 497.8737872530555, 126.93878263888891, 18.404676833055554, 0.08501383305555557, 0.017066382222222225, 1.6098387100000005, 49.25691141222223, 338.36914335999995, 1241.990388326389, 3181.440879766389, 5897.083963715556, 8626.405675553053, 10669.716750062225, 11848.104929333333, 12351.368545648887, 12423.047441937502, 12339.485030666667, 12179.418959376668, 12230.349543989996, 12312.946951465558, 12234.828467693333, 11556.503177333336, 9963.658437062224, 7609.988383153054, 5120.6702888888885, 3016.583042499722, 1602.4218347997225, 763.665650826389, 308.8954644330556, 75.93487676638891, 8.53329643083333, 0.02534957750000003, 0.016016399722222217, 0.02681569972222224, 30.806816493055546, 189.79289519888889, 712.7955123455557, 1987.8421218655558, 4213.508105598889, 6979.299375182223, 9595.501066999723, 11459.764170839999, 12436.594315945555, 12736.372166416666, 12644.92657536639, 12573.92452827083, 12592.29243594556, 12386.738420248887, 11505.580858826392, 9852.339823697499, 7496.3790498530525, 5104.309656999722, 3110.7650947641664, 1707.9379838975005, 873.0924662655555, 408.69751749972227, 142.1746856488889, 25.934518219722225, 2.136215305555556, 0.08639856000000007, 0.0, 0.0, 7.963182638888888, 65.09073447888889, 300.2968507100001, 886.4381162622223, 2136.0594274930563, 4190.175615982222, 6746.957481659723, 9158.959456833054, 10933.169310715557, 11913.605996493336, 12219.747060786389, 12145.518584888887, 11638.100384256664, 10584.893394416667, 8837.23271438222, 6672.095608226667, 4503.841859012222, 2784.285379972222, 1594.7741057663886, 827.0432434122222, 408.3070809955557, 175.50581327750004, 51.33690586555556, 8.979939865555556, 0.854624186388889, 0.0, 0.0, 0.0, 2.3439654441666655, 18.066067160000003, 89.17522946555559, 282.1106292774999, 748.7668123330553, 1674.8316671597222, 3072.5947673197215, 4858.004782533055, 6567.037995219723, 7786.615366353057, 8299.227506770836, 8200.007224937503, 7429.127537493055, 6162.930170115556, 4806.865944153056, 3461.4109596597223, 2244.4366197775003, 1374.4301846566668, 750.002146222222, 383.55240353305555, 177.36622181222216, 69.96355986555555, 15.631516699722223, 3.8002578997222223, 0.16546292888888883, 0.0, 0.0, 0.0, 0.05526421222222223, 2.6307004197222215, 21.428421419722223, 84.71384975000001, 262.36386975, 613.7507340530557, 1221.5153697733338, 1941.6476563100007, 2705.575392888889, 3215.144097222222, 3464.5941133330552, 3392.5501881733335, 2987.0570745555556, 2485.579352064167, 2017.4936628641663, 1502.0785553055555, 1017.683578928889, 613.493379448889, 323.9849915555556, 157.90722568638893, 65.10951799305558, 23.70200129972223, 3.969622395555556, 0.3949539455555556, 0.18026366222222226, 0.0, 0.0, 0.0, 0.0, 0.02406626555555555, 5.496026630833332, 27.027287159722214, 101.87670105305556, 229.15617624416657, 456.7062079930555, 686.9022692788888, 948.1749482863888, 1166.3707426122223, 1245.3506547997224, 1202.0369647455561, 1075.2869940663888, 844.4893427455555, 681.2596463288888, 495.11216969972213, 327.8600986388888, 193.12622604, 106.45634391972219, 42.93539877333332, 12.251934928888891, 1.5419386388888885, 0.01321639972222222, 0.058015699722222216, 0.0, 0.0, 0.0, 0.0, 0.0, 0.0, 0.19142691555555563, 2.9624738263888895, 6.766233332222222, 16.261810026666673, 22.81024381972222, 38.16556266222222, 58.99254279972223, 82.69142866555555, 97.97615819972222, 108.82444319972218, 130.0265434655556, 110.61182372888888, 88.31896852888893, 64.92597963305555, 36.51085981222223, 15.651169382222221, 8.064584265555553, 2.8451448197222224, 2.8165881530555557, 0.1201293333333333, 0.0, 0.0, 0.0, 0.0]\n"
     ]
    }
   ],
   "source": [
    "print(v_a)"
   ]
  },
  {
   "cell_type": "markdown",
   "metadata": {},
   "source": [
    "Certaines variances sont egales à zero, ce qui est normal car elles correspondent aux surfaces noires des grapes (cf exemple de graphique ci-dessus, X[35].  "
   ]
  },
  {
   "cell_type": "markdown",
   "metadata": {},
   "source": [
    "### Selection des données avec une variance supérieure à 0,001"
   ]
  },
  {
   "cell_type": "code",
   "execution_count": 53,
   "metadata": {},
   "outputs": [
    {
     "name": "stdout",
     "output_type": "stream",
     "text": [
      " Après sélection, notre jeu de données d'apprentissage a pour dimension : Xam =  (60000, 717) et Yam =  (60000,)\n",
      " Après selection, notre jeu de données de test a pour dimension : Xtm =  (10000, 717) et Ytm (10000,)\n"
     ]
    }
   ],
   "source": [
    "tol = 1e-3\n",
    "std_a = np.std(Xam, 0) #calcule l'ecart type le long de l'axe spécifié, 0 pour ligne et 1 pour colonne\n",
    "idx_var = np.squeeze(np.where(std_a > tol))\n",
    "Xam = Xam[:, idx_var]\n",
    "Xtm = Xtm[:, idx_var]\n",
    "print(\" Après sélection, notre jeu de données d'apprentissage a pour dimension : Xam = \", Xam.shape, \"et Yam = \", Yam.shape)\n",
    "print(\" Après selection, notre jeu de données de test a pour dimension : Xtm = \", Xtm.shape, \"et Ytm\", Ytm.shape)"
   ]
  },
  {
   "cell_type": "markdown",
   "metadata": {},
   "source": [
    "67 variables ont donc été éliminées car présentaient des variances non significatives (inférieures à 0,001)"
   ]
  },
  {
   "cell_type": "markdown",
   "metadata": {},
   "source": [
    "### Normalisation des données "
   ]
  },
  {
   "cell_type": "markdown",
   "metadata": {},
   "source": [
    "Les données ayant le même ordre de grandeur, une normalisation n'est pas nécessaire ici."
   ]
  },
  {
   "cell_type": "code",
   "execution_count": null,
   "metadata": {},
   "outputs": [],
   "source": [
    "#sc = StandardScaler(with_mean=True, with_std=True)\n",
    "#sc = sc.fit(Xam)\n",
    "#Xam = sc.transform(Xam)\n",
    "#Xtm = sc.transform(Xtm)"
   ]
  },
  {
   "cell_type": "markdown",
   "metadata": {},
   "source": [
    "### Application de la LDA et de la QDA sur des données d'apprentissage et de test"
   ]
  },
  {
   "cell_type": "code",
   "execution_count": 49,
   "metadata": {
    "scrolled": true
   },
   "outputs": [
    {
     "name": "stderr",
     "output_type": "stream",
     "text": [
      "/anaconda3/lib/python3.7/site-packages/sklearn/discriminant_analysis.py:388: UserWarning: Variables are collinear.\n",
      "  warnings.warn(\"Variables are collinear.\")\n"
     ]
    },
    {
     "name": "stdout",
     "output_type": "stream",
     "text": [
      "LDA : taux d''erreur sur les données d''apprentissage = 12.851666666666667%\n",
      "LDA : taux d''erreur sur les données de test= 12.7%\n"
     ]
    }
   ],
   "source": [
    "import numpy as np\n",
    "import matplotlib.pyplot as plt\n",
    "from matplotlib.colors import ListedColormap\n",
    "\n",
    "from sklearn import datasets\n",
    "from sklearn.discriminant_analysis import LinearDiscriminantAnalysis\n",
    "\n",
    "# LDA\n",
    "clf_lda = LinearDiscriminantAnalysis(solver='svd', store_covariance = True)\n",
    "clf_lda.fit(Xam, Yam)\n",
    "\n",
    "Y_lda = clf_lda.predict(Xam)\n",
    "err_lda = sum(Y_lda != Yam)/Yam.size\n",
    "print(\"LDA : taux d''erreur sur les données d''apprentissage = {}%\".format(100*err_lda))\n",
    "\n",
    "Y_ldat = clf_lda.predict(Xtm)\n",
    "err_ldat = sum(Y_ldat != Ytm)/Ytm.size\n",
    "print(\"LDA : taux d''erreur sur les données de test= {}%\".format(100*err_ldat))"
   ]
  },
  {
   "cell_type": "markdown",
   "metadata": {},
   "source": [
    "Important : plus la variabilité de la variance des données est grande, plus les données sont dispersées et éloignées entre elles, plus il devient difficile de prédire leur appartenance aux classes."
   ]
  },
  {
   "cell_type": "markdown",
   "metadata": {},
   "source": [
    "# Régression logistique sur problème de classification binaire"
   ]
  },
  {
   "cell_type": "markdown",
   "metadata": {},
   "source": [
    "Le but ici est d’appliquer la méthode de régression linéaire sur les données des exercices 1.2 et 1.3 et de comparer les résultats obtenus avec l’approche LDA. Pour rappel, le problème à résoudre est le suivant : <br> \n",
    "$$\n",
    "min_{\\theta} CJ(\\theta) + \\Omega(\\theta)\n",
    "$$\n",
    "- avec $C > 0$ : un paramètre de régularisation fixé par l’utilisateur \n",
    "- avec $\\Omega (\\theta)$ : le terme de régularisation \n",
    "- $-J$ : la log-vraisemblance"
   ]
  },
  {
   "cell_type": "markdown",
   "metadata": {},
   "source": [
    "Le script suivant illustre la régression logistique sur les données <strong>iris</strong>. \n",
    "Dans ce script, on decoupe le jeu de données en jeu d'apprentisage et jeu de validation en spécifiant la taille du jeu de données de validation (égale à 1/2 soit la moitié de notre jeu de donnée total). La valeur par défaut de ce paramètre est de 1/4.\n",
    "\n",
    "Dans un premier temps, le jeu de données est séparé en un jeu de données d'apprentissage et un jeu de données de validation. Un modèle de régression logistique est instancié avec une tolérance de  1e−5\n",
    " , une valeur de multi_class égale à \"multinomial\" (car les données sont regroupées en 3 classes). La régression contient un hyper-paramètre  C\n",
    "  qu'il va falloir choisir de façon à ce que notre modèle donne le meilleur résultat possible. Pour chaque valeur de  C\n",
    " , une régression logistique est entraînée sur les données d'apprentissage puis le modèle est utilisé en prédiction sur les données de validation. Le taux d'erreur en apprentissage et en validation (calculées grâce à la fonction <strong>accuracy_score</strong> de Scikit-Learn) sont stockées dans un tableau. Une fois tous les  C\n",
    "  testés, le  C\n",
    "  optimal est celui qui donne le taux d'erreur le plus bas sur la prédiction des données de validation. On peut alors obtenir le modèle final en entraînant la regression logistique sur les données d'apprentissage avec le  C\n",
    "  optimal. Puis le modèle est utilisé pour prédire les données de validation."
   ]
  },
  {
   "cell_type": "code",
   "execution_count": 21,
   "metadata": {
    "scrolled": true
   },
   "outputs": [
    {
     "name": "stdout",
     "output_type": "stream",
     "text": [
      " Notre jeu de données d'apprentissage a pour dimension : Xa =  (75, 4) et Ya =  (75,)\n",
      " Notre jeu de données de test a pour dimension : Xt =  (75, 4) et Yt (75,)\n"
     ]
    }
   ],
   "source": [
    "# coding: utf-8\n",
    "\n",
    "# # Regression logistique\n",
    "# Application sur les donnees Iris\n",
    "\n",
    "from __future__ import print_function\n",
    "from __future__ import division\n",
    "import numpy as np\n",
    "import matplotlib.pyplot as plt\n",
    "from matplotlib.colors import ListedColormap\n",
    "\n",
    "from sklearn import linear_model #régression linéaire (variables quantitatives) ou logistiques (variables catégorielles)\n",
    "from sklearn import datasets #data iris s'y trouvent ainsi que d'autres datasets\n",
    "from sklearn.metrics import accuracy_score #metrique\n",
    "from sklearn.model_selection import train_test_split\n",
    "\n",
    "plt.close(\"all\")\n",
    "\n",
    "#%% ==== Trace de frontiere de decision en 2D\n",
    "def plot_regions_decision_2d(X, y, classifier, resolution=0.02, titre=' '):\n",
    "\n",
    "    # setup marker generator and color map\n",
    "    markers = ('s', 'x', 'o', '^', 'v')\n",
    "    colors = ('red', 'blue', 'lightgreen', 'gray', 'cyan')\n",
    "    cmap = ListedColormap(colors[:len(np.unique(y))])\n",
    "\n",
    "    # plot the decision surface\n",
    "    x1_min, x1_max = X[:, 0].min() - 0, X[:, 0].max() + 0\n",
    "    x2_min, x2_max = X[:, 1].min() - 0, X[:, 1].max() + 0\n",
    "    xx1, xx2 = np.meshgrid(np.arange(x1_min, x1_max, resolution),\n",
    "                         np.arange(x2_min, x2_max, resolution))\n",
    "    Z = classifier.predict(np.array([xx1.ravel(), xx2.ravel()]).T)\n",
    "    Z = Z.reshape(xx1.shape)\n",
    "    plt.figure()\n",
    "    plt.contourf(xx1, xx2, Z, alpha=0.4, cmap=cmap)\n",
    "    plt.xlim(xx1.min(), xx1.max())\n",
    "    plt.ylim(xx2.min(), xx2.max())\n",
    "\n",
    "    # plot class samples\n",
    "    for idx, cl in enumerate(np.unique(y)):\n",
    "        plt.scatter(x=X[y == cl, 0], y=X[y == cl, 1],\n",
    "                    alpha=0.6, c=cmap(idx),\n",
    "                    marker=markers[idx], label= 'classe {}'.format(cl))\n",
    "    plt.legend(loc='best')\n",
    "    plt.title(titre, fontsize=12)\n",
    "    \n",
    "#%% ### Dataset : IRIS (inclus dans Sklearn)\n",
    "iris = datasets.load_iris()\n",
    "X, Y = iris.data, iris.target\n",
    "\n",
    "#%% ### Decoupage des donnees en jeu d'apprentissage et de validation\n",
    "# Remarque : la normalisation des donnees est omise dans ce exemple\n",
    "\n",
    "Xa, Xv, Ya, Yv = train_test_split(X, Y, shuffle=True, test_size=1/2, stratify=Y)\n",
    "print(\" Notre jeu de données d'apprentissage a pour dimension : Xa = \", Xa.shape, \"et Ya = \", Ya.shape)\n",
    "print(\" Notre jeu de données de test a pour dimension : Xt = \", Xv.shape, \"et Yt\", Yv.shape)"
   ]
  },
  {
   "cell_type": "code",
   "execution_count": 22,
   "metadata": {},
   "outputs": [
    {
     "name": "stderr",
     "output_type": "stream",
     "text": [
      "/anaconda3/lib/python3.7/site-packages/sklearn/linear_model/logistic.py:758: ConvergenceWarning: lbfgs failed to converge. Increase the number of iterations.\n",
      "  \"of iterations.\", ConvergenceWarning)\n",
      "/anaconda3/lib/python3.7/site-packages/sklearn/linear_model/logistic.py:758: ConvergenceWarning: lbfgs failed to converge. Increase the number of iterations.\n",
      "  \"of iterations.\", ConvergenceWarning)\n",
      "/anaconda3/lib/python3.7/site-packages/sklearn/linear_model/logistic.py:758: ConvergenceWarning: lbfgs failed to converge. Increase the number of iterations.\n",
      "  \"of iterations.\", ConvergenceWarning)\n",
      "/anaconda3/lib/python3.7/site-packages/sklearn/linear_model/logistic.py:758: ConvergenceWarning: lbfgs failed to converge. Increase the number of iterations.\n",
      "  \"of iterations.\", ConvergenceWarning)\n",
      "/anaconda3/lib/python3.7/site-packages/sklearn/linear_model/logistic.py:758: ConvergenceWarning: lbfgs failed to converge. Increase the number of iterations.\n",
      "  \"of iterations.\", ConvergenceWarning)\n",
      "/anaconda3/lib/python3.7/site-packages/sklearn/linear_model/logistic.py:758: ConvergenceWarning: lbfgs failed to converge. Increase the number of iterations.\n",
      "  \"of iterations.\", ConvergenceWarning)\n",
      "/anaconda3/lib/python3.7/site-packages/sklearn/linear_model/logistic.py:758: ConvergenceWarning: lbfgs failed to converge. Increase the number of iterations.\n",
      "  \"of iterations.\", ConvergenceWarning)\n",
      "/anaconda3/lib/python3.7/site-packages/sklearn/linear_model/logistic.py:758: ConvergenceWarning: lbfgs failed to converge. Increase the number of iterations.\n",
      "  \"of iterations.\", ConvergenceWarning)\n"
     ]
    },
    {
     "name": "stdout",
     "output_type": "stream",
     "text": [
      "Valeur de Copt = 3.7275937203149416\n",
      "Err validation correspondante = 5.333333333333334\n",
      "Err apprentissage correspondante = 2.6666666666666616\n"
     ]
    },
    {
     "data": {
      "image/png": "[encoded data removed]",
      "text/plain": [
       "<Figure size 432x288 with 1 Axes>"
      ]
     },
     "metadata": {
      "needs_background": "light"
     },
     "output_type": "display_data"
    }
   ],
   "source": [
    "#%% ### Selection de l'hyper-parametre C \n",
    "\n",
    "clf_reglog = linear_model.LogisticRegression(tol=1e-5, multi_class='multinomial', solver='lbfgs') #lbfgs : newton, ne passe pas si trop de donnees, \n",
    "#cf doc sklearn.linear_model.LogisticRegression avec les différentes valeurs des paramètres (pénalité Ridge, Lasso, ElasticNet etc) \n",
    "    \n",
    "vectC = np.logspace(-3, 2, 15) #len(vectC=15)\n",
    "err_app = np.empty(vectC.shape[0])\n",
    "err_val = np.empty(vectC.shape[0])\n",
    "for ind_C, C in enumerate(vectC):\n",
    "    clf_reglog.C = C #100\n",
    "    clf_reglog.fit(Xa, Ya)\n",
    "    err_val[ind_C] = 1 - accuracy_score(Yv, clf_reglog.predict(Xv))\n",
    "    err_app[ind_C] = 1 - accuracy_score(Ya, clf_reglog.predict(Xa))\n",
    "\n",
    "# Choix du meilleur C\n",
    "err_min_val, ind_min = err_val.min(), err_val.argmin() #0.053 et 10\n",
    "Copt = vectC[ind_min] #3.72\n",
    "\n",
    "\n",
    "#%% #### Trace des courbes d'erreur d'apprentissage\n",
    "plt.figure()\n",
    "plt.semilogx(vectC, err_val, color='green', linestyle='--', marker='s', markersize=5, label='Validation')\n",
    "plt.semilogx(vectC, err_app, color='blue', linestyle='--', marker='s', markersize=5, label='Apprentissage')\n",
    "plt.xlabel('Parametre C')\n",
    "plt.ylabel('Erreur Classification')\n",
    "plt.legend(loc='best')\n",
    "\n",
    "#%% ##### Model final\n",
    "clf_reglog.C = Copt\n",
    "clf_reglog.fit(Xa, Ya)\n",
    "print('Valeur de Copt = {}'.format(Copt ))\n",
    "print('Err validation correspondante = {}'.format(100*(1 - accuracy_score(Yv, clf_reglog.predict(Xv)))))\n",
    "print('Err apprentissage correspondante = {}'.format(100*(1 - accuracy_score(Ya, clf_reglog.predict(Xa)))))\n",
    "\n",
    "\n",
    "#%% ### Trace de la frontiere de decision en 2D\n",
    "# Utilisation de 2 variables choisies parmi les 4.\n",
    "# trace frontiere de decision en fonction de certaines variables choisies\n",
    "#variables = [2, 3]\n",
    "## on re-apprend le modele avec Coptimal \n",
    "#clf_reglog.C = Copt\n",
    "#clf_reglog.fit(Xa[:,variables], Ya) \n",
    "#plot_regions_decision_2d(Xa[:,variables], Ya, clf, 0.02, titre='{}'.format(\"Regression Logistique\"))"
   ]
  },
  {
   "cell_type": "markdown",
   "metadata": {},
   "source": [
    "Graphiquement, on retrouve la valeur du C optimal qui corresspond au point où la coubre de validation (en vert) est minimal."
   ]
  },
  {
   "cell_type": "markdown",
   "metadata": {},
   "source": [
    "Dans les domaines de la reconnaissance de formes, de la recherche d'information et de la classification automatique : <br>\n",
    "- la <strong> précision </strong> (ou valeur prédictive positive) est la proportion des items pertinents parmi l'ensemble des items proposés <br>\n",
    "- le <strong> rappel (ou sensibilité) </strong> est la proportion des items pertinents proposés parmi l'ensemble des items pertinents. <br>\n",
    "<br>\n",
    "\n",
    "Ces deux notions correspondent ainsi à une conception et à une mesure de la pertinence. <br>\n",
    "\n",
    "Lorsqu'un moteur de recherche, par exemple, retourne 30 pages web dont seulement 20 sont pertinentes (les vrais positifs) et 10 ne le sont pas (les faux positifs), mais qu'il omet 40 autres pages pertinentes (les faux négatifs), sa précision est de 20/30 = 2/3 et son rappel vaut 20/(20+40) = 1/3.\n",
    "\n",
    "La précision peut ainsi être comprise comme une mesure de l'exactitude ou de la qualité, tandis que le rappel est une mesure de l'exhaustivité ou de la quantité.\n",
    "\n",
    "- La précision est le nombre de documents pertinents retrouvés rapporté au nombre de documents total proposé pour une requête donnée.\n",
    "\n",
    "Le principe est le suivant : quand un utilisateur interroge une base de données, il souhaite que les documents proposés en réponse à son interrogation correspondent à son attente. Tous les documents retournés superflus ou non pertinents constituent du bruit. La précision s’oppose à ce bruit documentaire. Si elle est élevée, cela signifie que peu de documents inutiles sont proposés par le système et que ce dernier peut être considéré comme « précis ». On calcule la précision avec la formule suivante :\n",
    "<br>\n",
    "<center> <strong> précision = nb de documents correctement attribués à la classe / nb de documents attribués à la classe </strong> </center> \n",
    "<center> <strong>Précision = TP + TN / TP + FP + FN + TN </strong></center> \n",
    "<center> <strong> Précision = TP / TP + FP </strong> </center>\n",
    "<br>\n",
    "avec : <br>\n",
    "- TP : True Positive <br>\n",
    "- TN : True Negative <br>\n",
    "- FP : False Positive <br>\n",
    "- FN : False Negative <br>\n",
    "\n",
    "En statistique, la précision est appelée valeur prédictive positive.(y_true)\n",
    "\n",
    "- Le rappel est défini par le nombre de documents pertinents retrouvés au regard du nombre de documents pertinents que possède la base de données.\n",
    "\n",
    "Cela signifie que lorsque l’utilisateur interroge la base, il souhaite voir apparaître tous les documents qui pourraient répondre à son besoin d'information. Si cette adéquation entre le questionnement de l’utilisateur et le nombre de documents présentés est importante alors le taux de rappel est élevé. À l’inverse, si le système possède de nombreux documents intéressants mais que ceux-ci n’apparaissent pas dans la liste des réponses, on parle de silence. Le silence s’oppose au rappel. Le rappel est donc calculé comme suit :\n",
    "<br>\n",
    "<center> <strong>rappel = nb de documents correctement attribués à la classe / nb de documents appartenant à la classe </strong> </center> \n",
    "<center> <strong>rappel = TP / TP + FN </strong> </center> \n",
    "<br>\n",
    "En statistique, le rappel est appelé sensibilité."
   ]
  },
  {
   "cell_type": "markdown",
   "metadata": {},
   "source": [
    "<br>\n",
    "<strong> *** Interprétation des résultats : </strong>\n",
    "Un système de recherche documentaire parfait fournira des réponses dont la précision et le rappel sont égaux à 1 (l'algorithme trouve la totalité des documents pertinents - rappel - et ne fait aucune erreur - précision). Dans la réalité, les algorithmes de recherche sont plus ou moins précis et plus ou moins pertinents. Il est possible d'obtenir un système très précis (par exemple un score de précision de 0,99), mais peu performant (par exemple avec un rappel de 0,10, qui signifiera qu'il n'a trouvé que 10 % des réponses possibles). De même, un algorithme dont le rappel est fort (par exemple 0,99, soit la quasi-totalité des documents pertinents), mais la précision faible (par exemple 0,10) fournira en guise de réponse de nombreux documents erronés en plus de ceux pertinents : il sera donc difficilement exploitable.\n",
    "\n",
    "Ainsi, dans les cas limites, un système de recherche documentaire qui renvoie la totalité des documents de sa base aura un rappel de 1 mais une mauvaise précision, tandis qu'un système de recherche qui renvoie uniquement la requête de l'utilisateur aura une précision de 1 pour un rappel très faible. La valeur d'un classifieur ne se réduit donc pas à un bon score en précision ou en rappel."
   ]
  },
  {
   "cell_type": "markdown",
   "metadata": {},
   "source": [
    "<br>\n",
    "<strong> *** Dans le cadre multi-classe : </strong>\n",
    "Dans le cadre multi-classes (où le nombre n de classes de données est supérieur à 1), les moyennes globales de la précision et du rappel sur l'ensemble des classes i peuvent être évaluées par la macro-moyenne qui calcule d'abord la précision et le rappel sur chaque classe i suivie d'un calcul de la moyenne des précisions et des rappels sur les n classes :\n",
    "<center> <strong> précision = somme des précisions i pour i allant de 1 à n / n </strong> </center> \n",
    "<br>\n",
    "<center> <strong> rappel = somme des rappels i pour i allant de 1 à n / n </strong> </center> \n",
    "<br>\n",
    "<br>\n",
    "Une mesure qui combine la précision et le rappel est leur moyenne harmonique, nommée F-mesure ou F-score:\n",
    "<center> <strong> F1-score = 2(precision * rappel / precision + rappel) </strong> </center> \n",
    "<br>\n",
    "Elle est également connue sous le nom de F1-score car précision et rappel sont pondérés de façon égale. Il s'agit d'un cas particulier de la mesure générale :\n",
    "<center> <strong> F-score = (1+beta au carré) * (precision * rappel) / (beta au carré) * (precision + rappel) </strong> </center> \n",
    "<br>"
   ]
  },
  {
   "cell_type": "markdown",
   "metadata": {},
   "source": [
    "### 2- Calcul des probabilités a posteriori des classes et déduction de la prédiction, au sens du maximum de probabilité a posteriori, de la classe des points de validation "
   ]
  },
  {
   "cell_type": "code",
   "execution_count": 30,
   "metadata": {},
   "outputs": [
    {
     "name": "stdout",
     "output_type": "stream",
     "text": [
      "Err val = 5.333333333333334\n"
     ]
    }
   ],
   "source": [
    "#import matplotlib.pyplot as plt \n",
    "#import matplotlib.pyplot.clf as clf\n",
    "\n",
    "proba = clf_reglog.predict_proba(Xv) #Prediction\n",
    "ypredv = np.argmax(proba, axis=1)\n",
    "print(\"Err val = {}\".format(100*(1-accuracy_score(Yv, ypredv))))"
   ]
  },
  {
   "cell_type": "markdown",
   "metadata": {},
   "source": [
    "Est ce que cette ligne de code ci-dessus est vriment pertinente ?"
   ]
  },
  {
   "cell_type": "markdown",
   "metadata": {},
   "source": [
    "# 2- Regression logistique sur problème de classification binaire"
   ]
  },
  {
   "cell_type": "markdown",
   "metadata": {},
   "source": [
    "## 1 - Regression logistique sur les données CTGSimple.csv"
   ]
  },
  {
   "cell_type": "markdown",
   "metadata": {},
   "source": [
    "### Chargement des données "
   ]
  },
  {
   "cell_type": "code",
   "execution_count": 37,
   "metadata": {},
   "outputs": [
    {
     "name": "stdout",
     "output_type": "stream",
     "text": [
      "Notre dataframe df a pour dimension :  (2126, 42)\n",
      " \n",
      "Visualisation des 5 premières lignes du dataframe df : \n",
      "     b     e  AC  FM  UC  DL  DS  DP  DR   LB  ...  C  D  E  AD  DE  LD  FS  \\\n",
      "0  240   357   0   0   0   0   0   0   0  120  ... -1 -1 -1  -1  -1  -1   1   \n",
      "1    5   632   4   0   4   2   0   0   0  132  ... -1 -1 -1   1  -1  -1  -1   \n",
      "2  177   779   2   0   5   2   0   0   0  133  ... -1 -1 -1   1  -1  -1  -1   \n",
      "3  411  1192   2   0   6   2   0   0   0  134  ... -1 -1 -1   1  -1  -1  -1   \n",
      "4  533  1147   4   0   5   0   0   0   0  132  ... -1 -1 -1  -1  -1  -1  -1   \n",
      "\n",
      "   SUSP  CLASS  NSP  \n",
      "0    -1      9    2  \n",
      "1    -1      6    1  \n",
      "2    -1      6    1  \n",
      "3    -1      6    1  \n",
      "4    -1      2    1  \n",
      "\n",
      "[5 rows x 42 columns]\n",
      " \n",
      " La variable cible Y a pour dimension :  (2126,)\n",
      " \n",
      "L'ensemble de nos variables explicatives X a pour dimension : (2126, 21)\n",
      " \n",
      "[[1.20e+02 0.00e+00 0.00e+00 ... 1.21e+02 7.30e+01 1.00e+00]\n",
      " [1.32e+02 6.00e-03 0.00e+00 ... 1.40e+02 1.20e+01 0.00e+00]\n",
      " [1.33e+02 3.00e-03 0.00e+00 ... 1.38e+02 1.30e+01 0.00e+00]\n",
      " ...\n",
      " [1.40e+02 1.00e-03 0.00e+00 ... 1.52e+02 4.00e+00 1.00e+00]\n",
      " [1.40e+02 1.00e-03 0.00e+00 ... 1.51e+02 4.00e+00 1.00e+00]\n",
      " [1.42e+02 2.00e-03 2.00e-03 ... 1.45e+02 1.00e+00 0.00e+00]]\n",
      " \n",
      "[2 1 1 ... 2 2 1]\n"
     ]
    }
   ],
   "source": [
    "#Chargement du script CTGSimple.csv disponible sur moodle et sur https://archive.ics. uci.edu/ml/datasets/cardiotocography.\n",
    "#et portant sur l'analyse de situations médicales\n",
    "\n",
    "import numpy as np\n",
    "import pandas as pd\n",
    "import seaborn as sb\n",
    "import matplotlib.pyplot as plt\n",
    "from sklearn.model_selection import train_test_split \n",
    "from sklearn.preprocessing import StandardScaler\n",
    "\n",
    "df = pd.read_csv(\"./CTGSimple.csv\", sep=\"\\t\",header=1)\n",
    "print(\"Notre dataframe df a pour dimension : \", df.shape)\n",
    "print(\" \")\n",
    "print(\"Visualisation des 5 premières lignes du dataframe df : \")\n",
    "print(df.head())\n",
    "Y = df[\"NSP\"].values #.values est pratique car récupère les valeurs d'une colonne et les transpose en ligne, on pert le nom de la colonne\n",
    "print(\" \")\n",
    "print(\" La variable cible Y a pour dimension : \",Y.shape)\n",
    "variables = [\"LB\",\"AC.1\",\"FM.1\",\"UC.1\",\"DL.1\",\"DS.1\",\"DP.1\",\"ASTV\",\n",
    "    \"MSTV\",\"ALTV\",\"MLTV\", \"Width\",\"Min\",\"Max\",\"Nmax\", \"Nzeros\",\"Mode\",\"Mean\",\"Median\",\"Variance\",\"Tendency\"]\n",
    "X = df[variables].values\n",
    "print(\" \")\n",
    "print(\"L'ensemble de nos variables explicatives X a pour dimension :\", X.shape)\n",
    "print(\" \")\n",
    "print(X)\n",
    "print(\" \")\n",
    "print(Y)\n"
   ]
  },
  {
   "cell_type": "markdown",
   "metadata": {},
   "source": [
    "### Transformation du problème en problème de classification binaire"
   ]
  },
  {
   "cell_type": "code",
   "execution_count": 38,
   "metadata": {},
   "outputs": [
    {
     "name": "stdout",
     "output_type": "stream",
     "text": [
      "      0\n",
      "0     2\n",
      "1     1\n",
      "2     1\n",
      "3     1\n",
      "4     1\n",
      "5     2\n",
      "6     2\n",
      "7     2\n",
      "8     2\n",
      "9     2\n",
      "10    2\n",
      "11    2\n",
      "12    1\n",
      "13    1\n",
      "14    1\n",
      "15    1\n",
      "16    1\n",
      "17    2\n",
      "18    1\n",
      "19    1\n",
      "20    2\n",
      "21    1\n",
      "22    2\n",
      "23    2\n",
      "24    2\n",
      "25    2\n",
      "26    2\n",
      "27    2\n",
      "28    2\n",
      "29    1\n",
      "...  ..\n",
      "2096  1\n",
      "2097  1\n",
      "2098  1\n",
      "2099  1\n",
      "2100  1\n",
      "2101  1\n",
      "2102  1\n",
      "2103  1\n",
      "2104  1\n",
      "2105  1\n",
      "2106  1\n",
      "2107  1\n",
      "2108  1\n",
      "2109  1\n",
      "2110  1\n",
      "2111  1\n",
      "2112  1\n",
      "2113  1\n",
      "2114  1\n",
      "2115  1\n",
      "2116  1\n",
      "2117  1\n",
      "2118  1\n",
      "2119  1\n",
      "2120  1\n",
      "2121  2\n",
      "2122  2\n",
      "2123  2\n",
      "2124  2\n",
      "2125  1\n",
      "\n",
      "[2126 rows x 1 columns]\n"
     ]
    }
   ],
   "source": [
    "#Fusion des classes 2 et 3 en une seule\n",
    "classe = 3\n",
    "Y[np.in1d(Y, classe)] = 2\n",
    "dfY1=pd.DataFrame(Y)\n",
    "print(dfY1)"
   ]
  },
  {
   "cell_type": "markdown",
   "metadata": {},
   "source": [
    "### Décomposition des données ainsi obtenues en 3 parties : apprentissage, validation et test"
   ]
  },
  {
   "cell_type": "code",
   "execution_count": 39,
   "metadata": {},
   "outputs": [
    {
     "name": "stdout",
     "output_type": "stream",
     "text": [
      " Notre jeu de données initiale a pour dimension : X =  (2126, 21) et Y =  (2126,)\n",
      " Notre jeu de données d'apprentissage a pour dimension : Xa =  (1041, 21) et Ya =  (1041,)\n",
      " Notre jeu de données de validation a pour dimension : Xv =  (447, 21) et Yv =  (447,)\n",
      " Notre jeu de données de test a pour dimension : Xt =  (638, 21) et Yt =  (638,)\n"
     ]
    }
   ],
   "source": [
    "from sklearn.model_selection import train_test_split\n",
    "\n",
    "Xa, Xt, Ya, Yt = train_test_split(X, Y, shuffle=True, test_size=0.3, stratify=Y)\n",
    "Xa, Xv, Ya, Yv = train_test_split(Xa, Ya, shuffle=True, test_size=0.3, stratify=Ya)\n",
    "print(\" Notre jeu de données initiale a pour dimension : X = \", X.shape, \"et Y = \", Y.shape)\n",
    "print(\" Notre jeu de données d'apprentissage a pour dimension : Xa = \", Xa.shape, \"et Ya = \", Ya.shape)\n",
    "print(\" Notre jeu de données de validation a pour dimension : Xv = \", Xv.shape, \"et Yv = \", Yv.shape)\n",
    "print(\" Notre jeu de données de test a pour dimension : Xt = \", Xt.shape, \"et Yt = \", Yt.shape)"
   ]
  },
  {
   "cell_type": "markdown",
   "metadata": {},
   "source": [
    "### Normalisation des données "
   ]
  },
  {
   "cell_type": "code",
   "execution_count": 40,
   "metadata": {},
   "outputs": [],
   "source": [
    "sc = StandardScaler(with_mean=True, with_std=True)\n",
    "sc = sc.fit(Xa)\n",
    "Xa = sc.transform(Xa)\n",
    "Xv = sc.transform(Xv)\n",
    "Xt = sc.transform(Xt)"
   ]
  },
  {
   "cell_type": "markdown",
   "metadata": {},
   "source": [
    "### Mise en oeuvre de la méthode de régression logistique avec utilisation de kfold pour trouver une valeur optimale du paramètre de régularisation C"
   ]
  },
  {
   "cell_type": "markdown",
   "metadata": {},
   "source": [
    "Nous allons utiliser la méthode K folds comme vu dans le TP 1 afin de trouver la valeur optimale de C"
   ]
  },
  {
   "cell_type": "code",
   "execution_count": 41,
   "metadata": {
    "scrolled": false
   },
   "outputs": [
    {
     "name": "stdout",
     "output_type": "stream",
     "text": [
      "Le C optimal est 0.139. \n"
     ]
    }
   ],
   "source": [
    "from sklearn.model_selection import KFold\n",
    "\n",
    "kf = KFold(n_splits=3) #k = 3\n",
    "i = 1\n",
    "\n",
    "vectC = np.logspace(-3, 2, 15)\n",
    "\n",
    "perf_val = [[], [], []]\n",
    "decoupage = 0\n",
    "\n",
    "for train , valid in kf.split(Xa):\n",
    "    X_train = Xa[train,:]\n",
    "    Y_train = Ya[train]\n",
    "    X_valid = Xa[valid,:]\n",
    "    Y_valid = Ya[valid]\n",
    "\n",
    "#%% ### Selection de l'hyper-parametre C \n",
    "\n",
    "    for c in vectC : \n",
    "        clf_reglog = linear_model.LogisticRegression(tol=1e-5, multi_class='multinomial', solver='lbfgs') \n",
    "        #lbfgs : newton, ne passe pas si trop de données \n",
    "        clf_reglog.C = c\n",
    "        clf_reglog.fit(X_train, Y_train)\n",
    "        perf_val[decoupage].append(1 - accuracy_score(Y_valid, clf_reglog.predict(X_valid)))\n",
    "    decoupage += 1\n",
    "\n",
    "perf_globale = np.zeros((len(vectC), 1))\n",
    "for i in range(0, len(vectC)):\n",
    "    perf_globale[i] = perf_val[0][i] + perf_val[1][i] + perf_val[2][i]\n",
    "    perf_globale[i] /= 3\n",
    "c_opt = vectC[np.argmin(perf_globale)]\n",
    "print('Le C optimal est %.3f. ' %c_opt)"
   ]
  },
  {
   "cell_type": "code",
   "execution_count": 42,
   "metadata": {},
   "outputs": [
    {
     "name": "stdout",
     "output_type": "stream",
     "text": [
      "Valeur de Copt = 0.13894954943731375\n",
      "Err classification en test correspondante = 8.62068965517241\n",
      "Err classification en apprentissage correspondante = 9.702209414024976\n"
     ]
    }
   ],
   "source": [
    "clf_reglog = linear_model.LogisticRegression(tol=1e-5, multi_class='multinomial', solver='lbfgs')\n",
    "clf_reglog.C = c_opt\n",
    "clf_reglog.fit(Xa, Ya)\n",
    "print('Valeur de Copt = {}'.format(c_opt ))\n",
    "print('Err classification en test correspondante = {}'.format(100*(1 - accuracy_score(Yt, clf_reglog.predict(Xt)))))\n",
    "print('Err classification en apprentissage correspondante = {}'.format(100*(1 - accuracy_score(Ya, clf_reglog.predict(Xa)))))"
   ]
  },
  {
   "cell_type": "markdown",
   "metadata": {},
   "source": [
    "Nous obtenons ainsi de meilleurs résultats en test que pour la LDA et la QDA puisque nous avions obtenu les résultats suivants : (10% versus 11% avec LDA et 18% avec QDA)\n",
    "- LDA : taux derreur apprentissage = 9.971777986829727%\n",
    "- LDA : taux derreur test= 11.100658513640639%\n",
    "- QDA : taux derreur apprentissage = 18.25023518344309%\n",
    "- QDA : taux derreur test = 18.344308560677327%"
   ]
  },
  {
   "cell_type": "markdown",
   "metadata": {},
   "source": [
    "### Affichage maintenant la matrice de confusion"
   ]
  },
  {
   "cell_type": "code",
   "execution_count": 127,
   "metadata": {},
   "outputs": [
    {
     "data": {
      "text/plain": [
       "Text(0, 0.5, 'Vrai label')"
      ]
     },
     "execution_count": 127,
     "metadata": {},
     "output_type": "execute_result"
    },
    {
     "data": {
      "image/png": "[encoded data removed]",
      "text/plain": [
       "<Figure size 216x216 with 1 Axes>"
      ]
     },
     "metadata": {
      "needs_background": "light"
     },
     "output_type": "display_data"
    }
   ],
   "source": [
    "from sklearn.metrics import confusion_matrix\n",
    "\n",
    "# Ici on suppose que le modèle de régression logistique est nommé clf_reglog dans le code\n",
    "# prédiction des labels des données de test\n",
    "ypred_test = clf_reglog.predict(Xt)\n",
    "\n",
    "# matrice de confusion\n",
    "confmat = confusion_matrix(y_true=Yt, y_pred=ypred_test)\n",
    "fig, ax = plt.subplots(figsize=(3, 3))\n",
    "ax.matshow(confmat, cmap=plt.cm.Blues, alpha=0.3)\n",
    "\n",
    "for i in range(confmat.shape[0]):\n",
    "    for j in range(confmat.shape[1]):\n",
    "        ax.text(x=j, y=i, s=confmat[i, j], va=\"center\", ha=\"center\")\n",
    "plt.xlabel(\"Label predit\")\n",
    "plt.ylabel(\"Vrai label\")"
   ]
  },
  {
   "cell_type": "markdown",
   "metadata": {},
   "source": [
    "Le modèle a classé 40 individus comme positifs alors qu'ils sont négatifs et 19 individus comme négatifs alors qu'ils sont positifs."
   ]
  },
  {
   "cell_type": "markdown",
   "metadata": {},
   "source": [
    "### 2.3 Cas multi-classe : données Mnist\n"
   ]
  },
  {
   "cell_type": "markdown",
   "metadata": {},
   "source": [
    "Dans cette partie nous allons utiliser le même data set que dans la partie 1.3 avec le data set Mnist.\n",
    "<br>\n",
    "Comme pour la partie 1.3, nous filtrons les variables dont la variance est faible (inférieure à 0.001)."
   ]
  },
  {
   "cell_type": "code",
   "execution_count": 44,
   "metadata": {},
   "outputs": [
    {
     "data": {
      "image/png": "[encoded data removed]",
      "text/plain": [
       "<Figure size 432x288 with 1 Axes>"
      ]
     },
     "metadata": {
      "needs_background": "light"
     },
     "output_type": "display_data"
    }
   ],
   "source": [
    "# Chargement des données\n",
    "import scipy.io as sio\n",
    "\n",
    "digits_app = sio.loadmat(\"mnist-app.mat\")\n",
    "Xa, Ya = digits_app[\"Xa\"], digits_app[\"Ya\"][:,0]\n",
    "digits_test = sio.loadmat(\"mnist-test.mat\")\n",
    "Xt, Yt = digits_test[\"Xt\"], digits_test[\"Yt\"][:,0]\n",
    "\n",
    "plt.imshow(Xa[35].reshape(28,28)) #affichage d'une image \n",
    "\n",
    "tol = 1e-3\n",
    "std_a = np.std(Xa, 0)\n",
    "idx_var = np.squeeze(np.where(std_a > tol))\n",
    "Xa = Xa[:, idx_var]\n",
    "Xt = Xt[:, idx_var]\n",
    "\n",
    "# les données app sont ensuite re-decoupées en app et validation (proportion au choix)\n",
    "Xa, Xv, Ya, Yv = train_test_split(Xa, Ya, shuffle=True, test_size=0.3, stratify=Ya)"
   ]
  },
  {
   "cell_type": "code",
   "execution_count": 129,
   "metadata": {
    "scrolled": true
   },
   "outputs": [
    {
     "name": "stderr",
     "output_type": "stream",
     "text": [
      "/anaconda3/lib/python3.7/site-packages/sklearn/linear_model/logistic.py:758: ConvergenceWarning: lbfgs failed to converge. Increase the number of iterations.\n",
      "  \"of iterations.\", ConvergenceWarning)\n",
      "/anaconda3/lib/python3.7/site-packages/sklearn/linear_model/logistic.py:758: ConvergenceWarning: lbfgs failed to converge. Increase the number of iterations.\n",
      "  \"of iterations.\", ConvergenceWarning)\n",
      "/anaconda3/lib/python3.7/site-packages/sklearn/linear_model/logistic.py:758: ConvergenceWarning: lbfgs failed to converge. Increase the number of iterations.\n",
      "  \"of iterations.\", ConvergenceWarning)\n",
      "/anaconda3/lib/python3.7/site-packages/sklearn/linear_model/logistic.py:758: ConvergenceWarning: lbfgs failed to converge. Increase the number of iterations.\n",
      "  \"of iterations.\", ConvergenceWarning)\n",
      "/anaconda3/lib/python3.7/site-packages/sklearn/linear_model/logistic.py:758: ConvergenceWarning: lbfgs failed to converge. Increase the number of iterations.\n",
      "  \"of iterations.\", ConvergenceWarning)\n",
      "/anaconda3/lib/python3.7/site-packages/sklearn/linear_model/logistic.py:758: ConvergenceWarning: lbfgs failed to converge. Increase the number of iterations.\n",
      "  \"of iterations.\", ConvergenceWarning)\n",
      "/anaconda3/lib/python3.7/site-packages/sklearn/linear_model/logistic.py:758: ConvergenceWarning: lbfgs failed to converge. Increase the number of iterations.\n",
      "  \"of iterations.\", ConvergenceWarning)\n",
      "/anaconda3/lib/python3.7/site-packages/sklearn/linear_model/logistic.py:758: ConvergenceWarning: lbfgs failed to converge. Increase the number of iterations.\n",
      "  \"of iterations.\", ConvergenceWarning)\n",
      "/anaconda3/lib/python3.7/site-packages/sklearn/linear_model/logistic.py:758: ConvergenceWarning: lbfgs failed to converge. Increase the number of iterations.\n",
      "  \"of iterations.\", ConvergenceWarning)\n",
      "/anaconda3/lib/python3.7/site-packages/sklearn/linear_model/logistic.py:758: ConvergenceWarning: lbfgs failed to converge. Increase the number of iterations.\n",
      "  \"of iterations.\", ConvergenceWarning)\n",
      "/anaconda3/lib/python3.7/site-packages/sklearn/linear_model/logistic.py:758: ConvergenceWarning: lbfgs failed to converge. Increase the number of iterations.\n",
      "  \"of iterations.\", ConvergenceWarning)\n",
      "/anaconda3/lib/python3.7/site-packages/sklearn/linear_model/logistic.py:758: ConvergenceWarning: lbfgs failed to converge. Increase the number of iterations.\n",
      "  \"of iterations.\", ConvergenceWarning)\n",
      "/anaconda3/lib/python3.7/site-packages/sklearn/linear_model/logistic.py:758: ConvergenceWarning: lbfgs failed to converge. Increase the number of iterations.\n",
      "  \"of iterations.\", ConvergenceWarning)\n",
      "/anaconda3/lib/python3.7/site-packages/sklearn/linear_model/logistic.py:758: ConvergenceWarning: lbfgs failed to converge. Increase the number of iterations.\n",
      "  \"of iterations.\", ConvergenceWarning)\n",
      "/anaconda3/lib/python3.7/site-packages/sklearn/linear_model/logistic.py:758: ConvergenceWarning: lbfgs failed to converge. Increase the number of iterations.\n",
      "  \"of iterations.\", ConvergenceWarning)\n",
      "/anaconda3/lib/python3.7/site-packages/sklearn/linear_model/logistic.py:758: ConvergenceWarning: lbfgs failed to converge. Increase the number of iterations.\n",
      "  \"of iterations.\", ConvergenceWarning)\n",
      "/anaconda3/lib/python3.7/site-packages/sklearn/linear_model/logistic.py:758: ConvergenceWarning: lbfgs failed to converge. Increase the number of iterations.\n",
      "  \"of iterations.\", ConvergenceWarning)\n",
      "/anaconda3/lib/python3.7/site-packages/sklearn/linear_model/logistic.py:758: ConvergenceWarning: lbfgs failed to converge. Increase the number of iterations.\n",
      "  \"of iterations.\", ConvergenceWarning)\n",
      "/anaconda3/lib/python3.7/site-packages/sklearn/linear_model/logistic.py:758: ConvergenceWarning: lbfgs failed to converge. Increase the number of iterations.\n",
      "  \"of iterations.\", ConvergenceWarning)\n",
      "/anaconda3/lib/python3.7/site-packages/sklearn/linear_model/logistic.py:758: ConvergenceWarning: lbfgs failed to converge. Increase the number of iterations.\n",
      "  \"of iterations.\", ConvergenceWarning)\n",
      "/anaconda3/lib/python3.7/site-packages/sklearn/linear_model/logistic.py:758: ConvergenceWarning: lbfgs failed to converge. Increase the number of iterations.\n",
      "  \"of iterations.\", ConvergenceWarning)\n",
      "/anaconda3/lib/python3.7/site-packages/sklearn/linear_model/logistic.py:758: ConvergenceWarning: lbfgs failed to converge. Increase the number of iterations.\n",
      "  \"of iterations.\", ConvergenceWarning)\n",
      "/anaconda3/lib/python3.7/site-packages/sklearn/linear_model/logistic.py:758: ConvergenceWarning: lbfgs failed to converge. Increase the number of iterations.\n",
      "  \"of iterations.\", ConvergenceWarning)\n",
      "/anaconda3/lib/python3.7/site-packages/sklearn/linear_model/logistic.py:758: ConvergenceWarning: lbfgs failed to converge. Increase the number of iterations.\n",
      "  \"of iterations.\", ConvergenceWarning)\n",
      "/anaconda3/lib/python3.7/site-packages/sklearn/linear_model/logistic.py:758: ConvergenceWarning: lbfgs failed to converge. Increase the number of iterations.\n",
      "  \"of iterations.\", ConvergenceWarning)\n",
      "/anaconda3/lib/python3.7/site-packages/sklearn/linear_model/logistic.py:758: ConvergenceWarning: lbfgs failed to converge. Increase the number of iterations.\n",
      "  \"of iterations.\", ConvergenceWarning)\n",
      "/anaconda3/lib/python3.7/site-packages/sklearn/linear_model/logistic.py:758: ConvergenceWarning: lbfgs failed to converge. Increase the number of iterations.\n",
      "  \"of iterations.\", ConvergenceWarning)\n",
      "/anaconda3/lib/python3.7/site-packages/sklearn/linear_model/logistic.py:758: ConvergenceWarning: lbfgs failed to converge. Increase the number of iterations.\n",
      "  \"of iterations.\", ConvergenceWarning)\n",
      "/anaconda3/lib/python3.7/site-packages/sklearn/linear_model/logistic.py:758: ConvergenceWarning: lbfgs failed to converge. Increase the number of iterations.\n",
      "  \"of iterations.\", ConvergenceWarning)\n",
      "/anaconda3/lib/python3.7/site-packages/sklearn/linear_model/logistic.py:758: ConvergenceWarning: lbfgs failed to converge. Increase the number of iterations.\n",
      "  \"of iterations.\", ConvergenceWarning)\n",
      "/anaconda3/lib/python3.7/site-packages/sklearn/linear_model/logistic.py:758: ConvergenceWarning: lbfgs failed to converge. Increase the number of iterations.\n",
      "  \"of iterations.\", ConvergenceWarning)\n",
      "/anaconda3/lib/python3.7/site-packages/sklearn/linear_model/logistic.py:758: ConvergenceWarning: lbfgs failed to converge. Increase the number of iterations.\n",
      "  \"of iterations.\", ConvergenceWarning)\n",
      "/anaconda3/lib/python3.7/site-packages/sklearn/linear_model/logistic.py:758: ConvergenceWarning: lbfgs failed to converge. Increase the number of iterations.\n",
      "  \"of iterations.\", ConvergenceWarning)\n",
      "/anaconda3/lib/python3.7/site-packages/sklearn/linear_model/logistic.py:758: ConvergenceWarning: lbfgs failed to converge. Increase the number of iterations.\n",
      "  \"of iterations.\", ConvergenceWarning)\n",
      "/anaconda3/lib/python3.7/site-packages/sklearn/linear_model/logistic.py:758: ConvergenceWarning: lbfgs failed to converge. Increase the number of iterations.\n",
      "  \"of iterations.\", ConvergenceWarning)\n",
      "/anaconda3/lib/python3.7/site-packages/sklearn/linear_model/logistic.py:758: ConvergenceWarning: lbfgs failed to converge. Increase the number of iterations.\n",
      "  \"of iterations.\", ConvergenceWarning)\n",
      "/anaconda3/lib/python3.7/site-packages/sklearn/linear_model/logistic.py:758: ConvergenceWarning: lbfgs failed to converge. Increase the number of iterations.\n",
      "  \"of iterations.\", ConvergenceWarning)\n",
      "/anaconda3/lib/python3.7/site-packages/sklearn/linear_model/logistic.py:758: ConvergenceWarning: lbfgs failed to converge. Increase the number of iterations.\n",
      "  \"of iterations.\", ConvergenceWarning)\n",
      "/anaconda3/lib/python3.7/site-packages/sklearn/linear_model/logistic.py:758: ConvergenceWarning: lbfgs failed to converge. Increase the number of iterations.\n",
      "  \"of iterations.\", ConvergenceWarning)\n",
      "/anaconda3/lib/python3.7/site-packages/sklearn/linear_model/logistic.py:758: ConvergenceWarning: lbfgs failed to converge. Increase the number of iterations.\n",
      "  \"of iterations.\", ConvergenceWarning)\n",
      "/anaconda3/lib/python3.7/site-packages/sklearn/linear_model/logistic.py:758: ConvergenceWarning: lbfgs failed to converge. Increase the number of iterations.\n",
      "  \"of iterations.\", ConvergenceWarning)\n",
      "/anaconda3/lib/python3.7/site-packages/sklearn/linear_model/logistic.py:758: ConvergenceWarning: lbfgs failed to converge. Increase the number of iterations.\n",
      "  \"of iterations.\", ConvergenceWarning)\n"
     ]
    },
    {
     "name": "stderr",
     "output_type": "stream",
     "text": [
      "/anaconda3/lib/python3.7/site-packages/sklearn/linear_model/logistic.py:758: ConvergenceWarning: lbfgs failed to converge. Increase the number of iterations.\n",
      "  \"of iterations.\", ConvergenceWarning)\n",
      "/anaconda3/lib/python3.7/site-packages/sklearn/linear_model/logistic.py:758: ConvergenceWarning: lbfgs failed to converge. Increase the number of iterations.\n",
      "  \"of iterations.\", ConvergenceWarning)\n",
      "/anaconda3/lib/python3.7/site-packages/sklearn/linear_model/logistic.py:758: ConvergenceWarning: lbfgs failed to converge. Increase the number of iterations.\n",
      "  \"of iterations.\", ConvergenceWarning)\n",
      "/anaconda3/lib/python3.7/site-packages/sklearn/linear_model/logistic.py:758: ConvergenceWarning: lbfgs failed to converge. Increase the number of iterations.\n",
      "  \"of iterations.\", ConvergenceWarning)\n",
      "/anaconda3/lib/python3.7/site-packages/sklearn/linear_model/logistic.py:758: ConvergenceWarning: lbfgs failed to converge. Increase the number of iterations.\n",
      "  \"of iterations.\", ConvergenceWarning)\n",
      "/anaconda3/lib/python3.7/site-packages/sklearn/linear_model/logistic.py:758: ConvergenceWarning: lbfgs failed to converge. Increase the number of iterations.\n",
      "  \"of iterations.\", ConvergenceWarning)\n",
      "/anaconda3/lib/python3.7/site-packages/sklearn/linear_model/logistic.py:758: ConvergenceWarning: lbfgs failed to converge. Increase the number of iterations.\n",
      "  \"of iterations.\", ConvergenceWarning)\n",
      "/anaconda3/lib/python3.7/site-packages/sklearn/linear_model/logistic.py:758: ConvergenceWarning: lbfgs failed to converge. Increase the number of iterations.\n",
      "  \"of iterations.\", ConvergenceWarning)\n",
      "/anaconda3/lib/python3.7/site-packages/sklearn/linear_model/logistic.py:758: ConvergenceWarning: lbfgs failed to converge. Increase the number of iterations.\n",
      "  \"of iterations.\", ConvergenceWarning)\n",
      "/anaconda3/lib/python3.7/site-packages/sklearn/linear_model/logistic.py:758: ConvergenceWarning: lbfgs failed to converge. Increase the number of iterations.\n",
      "  \"of iterations.\", ConvergenceWarning)\n",
      "/anaconda3/lib/python3.7/site-packages/sklearn/linear_model/logistic.py:758: ConvergenceWarning: lbfgs failed to converge. Increase the number of iterations.\n",
      "  \"of iterations.\", ConvergenceWarning)\n",
      "/anaconda3/lib/python3.7/site-packages/sklearn/linear_model/logistic.py:758: ConvergenceWarning: lbfgs failed to converge. Increase the number of iterations.\n",
      "  \"of iterations.\", ConvergenceWarning)\n",
      "/anaconda3/lib/python3.7/site-packages/sklearn/linear_model/logistic.py:758: ConvergenceWarning: lbfgs failed to converge. Increase the number of iterations.\n",
      "  \"of iterations.\", ConvergenceWarning)\n",
      "/anaconda3/lib/python3.7/site-packages/sklearn/linear_model/logistic.py:758: ConvergenceWarning: lbfgs failed to converge. Increase the number of iterations.\n",
      "  \"of iterations.\", ConvergenceWarning)\n",
      "/anaconda3/lib/python3.7/site-packages/sklearn/linear_model/logistic.py:758: ConvergenceWarning: lbfgs failed to converge. Increase the number of iterations.\n",
      "  \"of iterations.\", ConvergenceWarning)\n",
      "/anaconda3/lib/python3.7/site-packages/sklearn/linear_model/logistic.py:758: ConvergenceWarning: lbfgs failed to converge. Increase the number of iterations.\n",
      "  \"of iterations.\", ConvergenceWarning)\n",
      "/anaconda3/lib/python3.7/site-packages/sklearn/linear_model/logistic.py:758: ConvergenceWarning: lbfgs failed to converge. Increase the number of iterations.\n",
      "  \"of iterations.\", ConvergenceWarning)\n",
      "/anaconda3/lib/python3.7/site-packages/sklearn/linear_model/logistic.py:758: ConvergenceWarning: lbfgs failed to converge. Increase the number of iterations.\n",
      "  \"of iterations.\", ConvergenceWarning)\n",
      "/anaconda3/lib/python3.7/site-packages/sklearn/linear_model/logistic.py:758: ConvergenceWarning: lbfgs failed to converge. Increase the number of iterations.\n",
      "  \"of iterations.\", ConvergenceWarning)\n",
      "/anaconda3/lib/python3.7/site-packages/sklearn/linear_model/logistic.py:758: ConvergenceWarning: lbfgs failed to converge. Increase the number of iterations.\n",
      "  \"of iterations.\", ConvergenceWarning)\n",
      "/anaconda3/lib/python3.7/site-packages/sklearn/linear_model/logistic.py:758: ConvergenceWarning: lbfgs failed to converge. Increase the number of iterations.\n",
      "  \"of iterations.\", ConvergenceWarning)\n",
      "/anaconda3/lib/python3.7/site-packages/sklearn/linear_model/logistic.py:758: ConvergenceWarning: lbfgs failed to converge. Increase the number of iterations.\n",
      "  \"of iterations.\", ConvergenceWarning)\n",
      "/anaconda3/lib/python3.7/site-packages/sklearn/linear_model/logistic.py:758: ConvergenceWarning: lbfgs failed to converge. Increase the number of iterations.\n",
      "  \"of iterations.\", ConvergenceWarning)\n",
      "/anaconda3/lib/python3.7/site-packages/sklearn/linear_model/logistic.py:758: ConvergenceWarning: lbfgs failed to converge. Increase the number of iterations.\n",
      "  \"of iterations.\", ConvergenceWarning)\n",
      "/anaconda3/lib/python3.7/site-packages/sklearn/linear_model/logistic.py:758: ConvergenceWarning: lbfgs failed to converge. Increase the number of iterations.\n",
      "  \"of iterations.\", ConvergenceWarning)\n",
      "/anaconda3/lib/python3.7/site-packages/sklearn/linear_model/logistic.py:758: ConvergenceWarning: lbfgs failed to converge. Increase the number of iterations.\n",
      "  \"of iterations.\", ConvergenceWarning)\n",
      "/anaconda3/lib/python3.7/site-packages/sklearn/linear_model/logistic.py:758: ConvergenceWarning: lbfgs failed to converge. Increase the number of iterations.\n",
      "  \"of iterations.\", ConvergenceWarning)\n",
      "/anaconda3/lib/python3.7/site-packages/sklearn/linear_model/logistic.py:758: ConvergenceWarning: lbfgs failed to converge. Increase the number of iterations.\n",
      "  \"of iterations.\", ConvergenceWarning)\n",
      "/anaconda3/lib/python3.7/site-packages/sklearn/linear_model/logistic.py:758: ConvergenceWarning: lbfgs failed to converge. Increase the number of iterations.\n",
      "  \"of iterations.\", ConvergenceWarning)\n",
      "/anaconda3/lib/python3.7/site-packages/sklearn/linear_model/logistic.py:758: ConvergenceWarning: lbfgs failed to converge. Increase the number of iterations.\n",
      "  \"of iterations.\", ConvergenceWarning)\n",
      "/anaconda3/lib/python3.7/site-packages/sklearn/linear_model/logistic.py:758: ConvergenceWarning: lbfgs failed to converge. Increase the number of iterations.\n",
      "  \"of iterations.\", ConvergenceWarning)\n",
      "/anaconda3/lib/python3.7/site-packages/sklearn/linear_model/logistic.py:758: ConvergenceWarning: lbfgs failed to converge. Increase the number of iterations.\n",
      "  \"of iterations.\", ConvergenceWarning)\n",
      "/anaconda3/lib/python3.7/site-packages/sklearn/linear_model/logistic.py:758: ConvergenceWarning: lbfgs failed to converge. Increase the number of iterations.\n",
      "  \"of iterations.\", ConvergenceWarning)\n",
      "/anaconda3/lib/python3.7/site-packages/sklearn/linear_model/logistic.py:758: ConvergenceWarning: lbfgs failed to converge. Increase the number of iterations.\n",
      "  \"of iterations.\", ConvergenceWarning)\n",
      "/anaconda3/lib/python3.7/site-packages/sklearn/linear_model/logistic.py:758: ConvergenceWarning: lbfgs failed to converge. Increase the number of iterations.\n",
      "  \"of iterations.\", ConvergenceWarning)\n",
      "/anaconda3/lib/python3.7/site-packages/sklearn/linear_model/logistic.py:758: ConvergenceWarning: lbfgs failed to converge. Increase the number of iterations.\n",
      "  \"of iterations.\", ConvergenceWarning)\n",
      "/anaconda3/lib/python3.7/site-packages/sklearn/linear_model/logistic.py:758: ConvergenceWarning: lbfgs failed to converge. Increase the number of iterations.\n",
      "  \"of iterations.\", ConvergenceWarning)\n"
     ]
    },
    {
     "name": "stdout",
     "output_type": "stream",
     "text": [
      "Le C optimal est 0.0010. \n"
     ]
    },
    {
     "name": "stderr",
     "output_type": "stream",
     "text": [
      "/anaconda3/lib/python3.7/site-packages/sklearn/linear_model/logistic.py:758: ConvergenceWarning: lbfgs failed to converge. Increase the number of iterations.\n",
      "  \"of iterations.\", ConvergenceWarning)\n"
     ]
    }
   ],
   "source": [
    "kf = KFold(n_splits=10) #k=10\n",
    "i = 1\n",
    "\n",
    "vectC = [0.0001,  0.001,  0.01,  0.1, 1, 100, 1000, 10000]\n",
    "\n",
    "perf_val = [[], [], [], [], [], [], [], [], [] ,[]]\n",
    "decoupage = 0\n",
    "\n",
    "for train , valid in kf.split(Xa):\n",
    "    X_train = Xa[train,:]\n",
    "    Y_train = Ya[train]\n",
    "    X_valid = Xa[valid,:]\n",
    "    Y_valid = Ya[valid]\n",
    "    \n",
    "    for c in vectC :\n",
    "        clf_reglog = linear_model.LogisticRegression(tol=1e-5, multi_class='multinomial', solver='lbfgs')\n",
    "        clf_reglog.C = c\n",
    "        clf_reglog.fit(X_train, Y_train)\n",
    "        perf_val[decoupage].append(1 - accuracy_score(Y_valid, clf_reglog.predict(X_valid)))\n",
    "    decoupage += 1\n",
    "    \n",
    "perf_globale = np.zeros((len(vectC), 1))\n",
    "for i in range(0, len(vectC)):\n",
    "    perf_globale[i] = perf_val[0][i] + perf_val[1][i] + perf_val[2][i] + perf_val[3][i] + perf_val[4][i] + perf_val[5][i] + perf_val[6][i] + perf_val[7][i] + perf_val[8][i] + perf_val[9][i] \n",
    "    perf_globale[i] /= 10\n",
    "c_opt = vectC[np.argmin(perf_globale)]\n",
    "print('Le C optimal est %.4f. ' %c_opt)"
   ]
  },
  {
   "cell_type": "markdown",
   "metadata": {},
   "source": [
    "Le C optimal est 0.0010."
   ]
  },
  {
   "cell_type": "code",
   "execution_count": 50,
   "metadata": {},
   "outputs": [
    {
     "data": {
      "text/plain": [
       "<matplotlib.legend.Legend at 0x1a265ba828>"
      ]
     },
     "execution_count": 50,
     "metadata": {},
     "output_type": "execute_result"
    },
    {
     "data": {
      "image/png": "[encoded data removed]",
      "text/plain": [
       "<Figure size 432x288 with 1 Axes>"
      ]
     },
     "metadata": {
      "needs_background": "light"
     },
     "output_type": "display_data"
    }
   ],
   "source": [
    "#%% #### Trace des courbes d'erreur d'apprentissage\n",
    "plt.figure()\n",
    "plt.semilogx(vectC, perf_globale, color='green', linestyle='--', marker='s', markersize=5, label='Validation')\n",
    "#plt.semilogx(vectC, err_app, color='blue', linestyle='--', marker='s', markersize=5, label='Apprentissage')\n",
    "plt.xlabel('Parametre C')\n",
    "plt.ylabel('Erreur Classification')\n",
    "plt.legend(loc='best')"
   ]
  },
  {
   "cell_type": "code",
   "execution_count": 130,
   "metadata": {
    "scrolled": true
   },
   "outputs": [
    {
     "data": {
      "text/plain": [
       "<matplotlib.legend.Legend at 0x1a20875278>"
      ]
     },
     "execution_count": 130,
     "metadata": {},
     "output_type": "execute_result"
    },
    {
     "data": {
      "image/png": "[encoded data removed]",
      "text/plain": [
       "<Figure size 432x288 with 1 Axes>"
      ]
     },
     "metadata": {
      "needs_background": "light"
     },
     "output_type": "display_data"
    }
   ],
   "source": [
    "#%% #### Trace des courbes d'erreur d'apprentissage\n",
    "plt.figure()\n",
    "plt.semilogx(vectC, perf_globale, color='green', linestyle='--', marker='s', markersize=5, label='Validation')\n",
    "#plt.semilogx(vectC, err_app, color='blue', linestyle='--', marker='s', markersize=5, label='Apprentissage')\n",
    "plt.xlabel('Parametre C')\n",
    "plt.ylabel('Erreur Classification')\n",
    "plt.legend(loc='best')"
   ]
  },
  {
   "cell_type": "code",
   "execution_count": 132,
   "metadata": {},
   "outputs": [
    {
     "name": "stderr",
     "output_type": "stream",
     "text": [
      "/anaconda3/lib/python3.7/site-packages/sklearn/linear_model/logistic.py:758: ConvergenceWarning: lbfgs failed to converge. Increase the number of iterations.\n",
      "  \"of iterations.\", ConvergenceWarning)\n"
     ]
    },
    {
     "name": "stdout",
     "output_type": "stream",
     "text": [
      "Valeur de Copt = 0.001\n",
      "Err classification en test correspondante = 7.950000000000001\n",
      "Err classification en apprentissage correspondante = 6.407142857142856\n"
     ]
    }
   ],
   "source": [
    "clf_reglog = linear_model.LogisticRegression(tol=1e-5, multi_class='multinomial', solver='lbfgs')\n",
    "clf_reglog.C = c_opt\n",
    "clf_reglog.fit(Xa, Ya)\n",
    "print('Valeur de Copt = {}'.format(c_opt ))\n",
    "print('Err classification en test correspondante = {}'.format(100*(1 - accuracy_score(Yt, clf_reglog.predict(Xt)))))\n",
    "print('Err classification en apprentissage correspondante = {}'.format(100*(1 - accuracy_score(Ya, clf_reglog.predict(Xa)))))"
   ]
  },
  {
   "cell_type": "markdown",
   "metadata": {},
   "source": [
    "Nous avions obtenu avec la méthode LDA un score de classification en test de 11% de taux d'erreur. Nous trouvons ici 7.9%. La méthode de regression logistique est donc plus performante que la méthode LDA pour ce problème.\n",
    " \n",
    "Nous allons maintenant déclarer un nouveau modèle pour la régression logistique en changeant les paramètres de la fonction *LogisticRegression* de *Scikit-Learn*. Nous prenons \"multi_class = ovr\" et \"solver = liblinear\". \"multi_class = ovr\" va permette d'ajuster pour chaque label un problème binaire. \"solver = liblinear\" permet une régularisation L1."
   ]
  },
  {
   "cell_type": "code",
   "execution_count": 133,
   "metadata": {
    "scrolled": true
   },
   "outputs": [
    {
     "name": "stdout",
     "output_type": "stream",
     "text": [
      "Valeur de Copt = 0.001\n",
      "Err classification en test correspondante = 8.499999999999996\n",
      "Err classification en apprentissage correspondante = 6.607142857142856\n"
     ]
    }
   ],
   "source": [
    "clf_reglog = linear_model.LogisticRegression(tol=1e-5, multi_class='ovr', solver='liblinear')\n",
    "clf_reglog.C = 0.0022758459260747888\n",
    "clf_reglog.fit(Xa, Ya)\n",
    "print('Valeur de Copt = {}'.format(c_opt ))\n",
    "print('Err classification en test correspondante = {}'.format(100*(1 - accuracy_score(Yt, clf_reglog.predict(Xt)))))\n",
    "print('Err classification en apprentissage correspondante = {}'.format(100*(1 - accuracy_score(Ya, clf_reglog.predict(Xa)))))"
   ]
  },
  {
   "cell_type": "markdown",
   "metadata": {},
   "source": [
    "On constate, sans faire une recherche d'hyper paramètre optimal, que les performances du modèle ne se détériorent pas. <br>\n",
    "Il peut être néanmmoins être intéressant d'utiliser KFold ou GridSearchCV pour rechercher une valeur optimale de l'hyper paramètre C et comparer le score obtenu (cf TP3-ML1)."
   ]
  }
 ],
 "metadata": {
  "kernelspec": {
   "display_name": "Python 3",
   "language": "python",
   "name": "python3"
  },
  "language_info": {
   "codemirror_mode": {
    "name": "ipython",
    "version": 3
   },
   "file_extension": ".py",
   "mimetype": "text/x-python",
   "name": "python",
   "nbconvert_exporter": "python",
   "pygments_lexer": "ipython3",
   "version": "3.7.3"
  }
 },
 "nbformat": 4,
 "nbformat_minor": 2
}
